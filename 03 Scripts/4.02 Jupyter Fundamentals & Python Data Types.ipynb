{
 "cells": [
  {
   "cell_type": "markdown",
   "id": "214ae0e7",
   "metadata": {},
   "source": [
    "# 01. Importing libraries"
   ]
  },
  {
   "cell_type": "code",
   "execution_count": 3,
   "id": "433bc7d5",
   "metadata": {},
   "outputs": [],
   "source": [
    "# import pandas, NumPy and os\n",
    "import pandas as pd\n",
    "import numpy as np\n",
    "import os"
   ]
  },
  {
   "cell_type": "markdown",
   "id": "50f5669f",
   "metadata": {},
   "source": [
    "# 02. Python data types"
   ]
  },
  {
   "cell_type": "code",
   "execution_count": null,
   "id": "1cba747e",
   "metadata": {},
   "outputs": [],
   "source": [
    "# Question 7: Code 3 different ways of reaching a result of 100 by adding or subtracting numeric variables.\n",
    "# 7a:"
   ]
  },
  {
   "cell_type": "code",
   "execution_count": 4,
   "id": "f6a7d9ba",
   "metadata": {},
   "outputs": [
    {
     "data": {
      "text/plain": [
       "100"
      ]
     },
     "execution_count": 4,
     "metadata": {},
     "output_type": "execute_result"
    }
   ],
   "source": [
    "125 - 25"
   ]
  },
  {
   "cell_type": "code",
   "execution_count": 5,
   "id": "e89f91be",
   "metadata": {},
   "outputs": [],
   "source": [
    "# 7b\n",
    "# use x = 200\n",
    "x = 200"
   ]
  },
  {
   "cell_type": "code",
   "execution_count": 6,
   "id": "3a1023a6",
   "metadata": {},
   "outputs": [
    {
     "name": "stdout",
     "output_type": "stream",
     "text": [
      "200\n"
     ]
    }
   ],
   "source": [
    "print(x)"
   ]
  },
  {
   "cell_type": "code",
   "execution_count": 7,
   "id": "4a52a4a6",
   "metadata": {},
   "outputs": [
    {
     "data": {
      "text/plain": [
       "100"
      ]
     },
     "execution_count": 7,
     "metadata": {},
     "output_type": "execute_result"
    }
   ],
   "source": [
    "x - 100"
   ]
  },
  {
   "cell_type": "code",
   "execution_count": 9,
   "id": "ef67eec9",
   "metadata": {},
   "outputs": [
    {
     "name": "stdout",
     "output_type": "stream",
     "text": [
      "200\n"
     ]
    }
   ],
   "source": [
    "# use y = 50\n",
    "print(x)"
   ]
  },
  {
   "cell_type": "code",
   "execution_count": 14,
   "id": "d2a41155",
   "metadata": {},
   "outputs": [],
   "source": [
    "x = 200\n",
    "y = 50\n",
    "z = x - (2 * y)"
   ]
  },
  {
   "cell_type": "code",
   "execution_count": 15,
   "id": "7cf4841b",
   "metadata": {},
   "outputs": [
    {
     "name": "stdout",
     "output_type": "stream",
     "text": [
      "100\n"
     ]
    }
   ],
   "source": [
    "print(z)"
   ]
  },
  {
   "cell_type": "code",
   "execution_count": 16,
   "id": "1f495fb7",
   "metadata": {},
   "outputs": [
    {
     "data": {
      "text/plain": [
       "0.8129714285714286"
      ]
     },
     "execution_count": 16,
     "metadata": {},
     "output_type": "execute_result"
    }
   ],
   "source": [
    "# Question 8: Code 2 floating-point variables and divide them by each other.\n",
    "# 8a\n",
    "x = 5.6908\n",
    "y = 0.5867\n",
    "x / 7"
   ]
  },
  {
   "cell_type": "code",
   "execution_count": 17,
   "id": "2ad09d6f",
   "metadata": {},
   "outputs": [
    {
     "data": {
      "text/plain": [
       "3.666666666666667"
      ]
     },
     "execution_count": 17,
     "metadata": {},
     "output_type": "execute_result"
    }
   ],
   "source": [
    "# 8b\n",
    "x = (7 / 3)\n",
    "y = (4 / 3)\n",
    "x + y"
   ]
  },
  {
   "cell_type": "code",
   "execution_count": 18,
   "id": "9f227ebc",
   "metadata": {},
   "outputs": [
    {
     "data": {
      "text/plain": [
       "'Hi Alex!'"
      ]
     },
     "execution_count": 18,
     "metadata": {},
     "output_type": "execute_result"
    }
   ],
   "source": [
    "# 09 Construct a short word made of separate strings (you’ll need to concatenate some strings!)\n",
    "a = 'H'\n",
    "b = 'i '\n",
    "c = 'A'\n",
    "d = 'l'\n",
    "e = 'e'\n",
    "f = 'x'\n",
    "g = '!'\n",
    "\n",
    "a + b + c + d + e + f + g"
   ]
  },
  {
   "cell_type": "code",
   "execution_count": 20,
   "id": "71ada689",
   "metadata": {},
   "outputs": [
    {
     "data": {
      "text/plain": [
       "'Turning and turning in the widening gyre, The falcon cannot hear the falconer'"
      ]
     },
     "execution_count": 20,
     "metadata": {},
     "output_type": "execute_result"
    }
   ],
   "source": [
    "# 10 Construct 2 short sentences made of separate strings\n",
    "a = 'Turning '\n",
    "b = 'and '\n",
    "c = 'turning '\n",
    "d = 'in the '\n",
    "e = 'widening '\n",
    "f = 'gyre, '\n",
    "g = 'The '\n",
    "h = 'falcon '\n",
    "i = 'cannot '\n",
    "j = 'hear '\n",
    "k = 'the '\n",
    "l = 'falconer'\n",
    "\n",
    "a + b + c + d + e + f + g + h + i + j + k + l"
   ]
  },
  {
   "cell_type": "code",
   "execution_count": 22,
   "id": "64a299a3",
   "metadata": {},
   "outputs": [
    {
     "data": {
      "text/plain": [
       "'Bonus, Bonus, Bonus, Bonus, Bonus, Bonus, Bonus, Bonus, Bonus, Bonus, Bonus, Bonus, Bonus, Bonus, Bonus, Bonus, Bonus, Bonus, Bonus, Bonus, Bonus, Bonus, Bonus, Bonus, Bonus, Bonus, Bonus, Bonus, Bonus, Bonus, Bonus, Bonus, Bonus, Bonus, Bonus, Bonus, Bonus, Bonus, Bonus, Bonus, Bonus, Bonus, Bonus, Bonus, Bonus, Bonus, Bonus, Bonus, Bonus, Bonus, Bonus, Bonus, Bonus, Bonus, Bonus, Bonus, Bonus, Bonus, Bonus, Bonus, Bonus, Bonus, Bonus, Bonus, Bonus, Bonus, Bonus, Bonus, Bonus, Bonus, Bonus, Bonus, Bonus, Bonus, Bonus, Bonus, Bonus, Bonus, Bonus, Bonus, Bonus, Bonus, Bonus, Bonus, Bonus, Bonus, Bonus, Bonus, Bonus, Bonus, Bonus, Bonus, Bonus, Bonus, Bonus, Bonus, Bonus, Bonus, Bonus, Bonus, '"
      ]
     },
     "execution_count": 22,
     "metadata": {},
     "output_type": "execute_result"
    }
   ],
   "source": [
    "# Bonus Task ; At the bottom of your file, include a command that makes a string appear 100 times.\n",
    "\n",
    "'Bonus, ' * 100"
   ]
  },
  {
   "cell_type": "code",
   "execution_count": null,
   "id": "67955ba1",
   "metadata": {},
   "outputs": [],
   "source": []
  }
 ],
 "metadata": {
  "kernelspec": {
   "display_name": "Python 3 (ipykernel)",
   "language": "python",
   "name": "python3"
  },
  "language_info": {
   "codemirror_mode": {
    "name": "ipython",
    "version": 3
   },
   "file_extension": ".py",
   "mimetype": "text/x-python",
   "name": "python",
   "nbconvert_exporter": "python",
   "pygments_lexer": "ipython3",
   "version": "3.9.13"
  }
 },
 "nbformat": 4,
 "nbformat_minor": 5
}
