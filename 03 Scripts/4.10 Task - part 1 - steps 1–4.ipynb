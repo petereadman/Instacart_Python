{
 "cells": [
  {
   "cell_type": "markdown",
   "id": "28813738",
   "metadata": {},
   "source": [
    "# 1. Import libraries and data"
   ]
  },
  {
   "cell_type": "code",
   "execution_count": 1,
   "id": "e3601451",
   "metadata": {},
   "outputs": [],
   "source": [
    "import pandas as pd\n",
    "import numpy as np\n",
    "import os"
   ]
  },
  {
   "cell_type": "code",
   "execution_count": 2,
   "id": "c44d54af",
   "metadata": {},
   "outputs": [],
   "source": [
    "# Turn your project folder path into a string\n",
    "\n",
    "path = r'/Users/peterreadman/Desktop/Python Projects/CareerFoundry/04-2020 Instacart Basket Analysis/'"
   ]
  },
  {
   "cell_type": "markdown",
   "id": "30912ccb",
   "metadata": {},
   "source": [
    "## STEP 1\n",
    "Import the data set you exported in Exercise 4.9 into a new Jupyter notebook. This should be the merged version of your data that contains the new customers column."
   ]
  },
  {
   "cell_type": "code",
   "execution_count": 3,
   "id": "008f17b1",
   "metadata": {},
   "outputs": [],
   "source": [
    "# import df_ords_prods_cust.pkl data set\n",
    "df = pd.read_pickle(os.path.join(path, '02 Data', '02b Prepared Data', 'df_ords_prods_cust.pkl'))"
   ]
  },
  {
   "cell_type": "code",
   "execution_count": 4,
   "id": "0ab33809",
   "metadata": {
    "scrolled": false
   },
   "outputs": [
    {
     "data": {
      "text/html": [
       "<div>\n",
       "<style scoped>\n",
       "    .dataframe tbody tr th:only-of-type {\n",
       "        vertical-align: middle;\n",
       "    }\n",
       "\n",
       "    .dataframe tbody tr th {\n",
       "        vertical-align: top;\n",
       "    }\n",
       "\n",
       "    .dataframe thead th {\n",
       "        text-align: right;\n",
       "    }\n",
       "</style>\n",
       "<table border=\"1\" class=\"dataframe\">\n",
       "  <thead>\n",
       "    <tr style=\"text-align: right;\">\n",
       "      <th></th>\n",
       "      <th>Order_ID</th>\n",
       "      <th>User_ID</th>\n",
       "      <th>Order_Number</th>\n",
       "      <th>Orders_day_of_the_week</th>\n",
       "      <th>Order_hour_of_day</th>\n",
       "      <th>Days_Since_Prior_Order</th>\n",
       "      <th>Product_ID</th>\n",
       "      <th>Add_To_Cart_Order</th>\n",
       "      <th>Reordered</th>\n",
       "      <th>Unnamed: 0</th>\n",
       "      <th>...</th>\n",
       "      <th>Frequency_Flag</th>\n",
       "      <th>First_Name</th>\n",
       "      <th>Last_Name</th>\n",
       "      <th>Gender</th>\n",
       "      <th>State</th>\n",
       "      <th>Age</th>\n",
       "      <th>Date_Joined</th>\n",
       "      <th>Dependants</th>\n",
       "      <th>Family_Status</th>\n",
       "      <th>Income</th>\n",
       "    </tr>\n",
       "  </thead>\n",
       "  <tbody>\n",
       "    <tr>\n",
       "      <th>0</th>\n",
       "      <td>2539329</td>\n",
       "      <td>1</td>\n",
       "      <td>1</td>\n",
       "      <td>2</td>\n",
       "      <td>8</td>\n",
       "      <td>NaN</td>\n",
       "      <td>196</td>\n",
       "      <td>1</td>\n",
       "      <td>0</td>\n",
       "      <td>195</td>\n",
       "      <td>...</td>\n",
       "      <td>Non-frequent customer</td>\n",
       "      <td>Linda</td>\n",
       "      <td>Nguyen</td>\n",
       "      <td>Female</td>\n",
       "      <td>Alabama</td>\n",
       "      <td>31</td>\n",
       "      <td>2019-02-17</td>\n",
       "      <td>3</td>\n",
       "      <td>married</td>\n",
       "      <td>40423</td>\n",
       "    </tr>\n",
       "    <tr>\n",
       "      <th>1</th>\n",
       "      <td>2398795</td>\n",
       "      <td>1</td>\n",
       "      <td>2</td>\n",
       "      <td>3</td>\n",
       "      <td>7</td>\n",
       "      <td>15.0</td>\n",
       "      <td>196</td>\n",
       "      <td>1</td>\n",
       "      <td>1</td>\n",
       "      <td>195</td>\n",
       "      <td>...</td>\n",
       "      <td>Non-frequent customer</td>\n",
       "      <td>Linda</td>\n",
       "      <td>Nguyen</td>\n",
       "      <td>Female</td>\n",
       "      <td>Alabama</td>\n",
       "      <td>31</td>\n",
       "      <td>2019-02-17</td>\n",
       "      <td>3</td>\n",
       "      <td>married</td>\n",
       "      <td>40423</td>\n",
       "    </tr>\n",
       "    <tr>\n",
       "      <th>2</th>\n",
       "      <td>473747</td>\n",
       "      <td>1</td>\n",
       "      <td>3</td>\n",
       "      <td>3</td>\n",
       "      <td>12</td>\n",
       "      <td>21.0</td>\n",
       "      <td>196</td>\n",
       "      <td>1</td>\n",
       "      <td>1</td>\n",
       "      <td>195</td>\n",
       "      <td>...</td>\n",
       "      <td>Non-frequent customer</td>\n",
       "      <td>Linda</td>\n",
       "      <td>Nguyen</td>\n",
       "      <td>Female</td>\n",
       "      <td>Alabama</td>\n",
       "      <td>31</td>\n",
       "      <td>2019-02-17</td>\n",
       "      <td>3</td>\n",
       "      <td>married</td>\n",
       "      <td>40423</td>\n",
       "    </tr>\n",
       "    <tr>\n",
       "      <th>3</th>\n",
       "      <td>2254736</td>\n",
       "      <td>1</td>\n",
       "      <td>4</td>\n",
       "      <td>4</td>\n",
       "      <td>7</td>\n",
       "      <td>29.0</td>\n",
       "      <td>196</td>\n",
       "      <td>1</td>\n",
       "      <td>1</td>\n",
       "      <td>195</td>\n",
       "      <td>...</td>\n",
       "      <td>Non-frequent customer</td>\n",
       "      <td>Linda</td>\n",
       "      <td>Nguyen</td>\n",
       "      <td>Female</td>\n",
       "      <td>Alabama</td>\n",
       "      <td>31</td>\n",
       "      <td>2019-02-17</td>\n",
       "      <td>3</td>\n",
       "      <td>married</td>\n",
       "      <td>40423</td>\n",
       "    </tr>\n",
       "    <tr>\n",
       "      <th>4</th>\n",
       "      <td>431534</td>\n",
       "      <td>1</td>\n",
       "      <td>5</td>\n",
       "      <td>4</td>\n",
       "      <td>15</td>\n",
       "      <td>28.0</td>\n",
       "      <td>196</td>\n",
       "      <td>1</td>\n",
       "      <td>1</td>\n",
       "      <td>195</td>\n",
       "      <td>...</td>\n",
       "      <td>Non-frequent customer</td>\n",
       "      <td>Linda</td>\n",
       "      <td>Nguyen</td>\n",
       "      <td>Female</td>\n",
       "      <td>Alabama</td>\n",
       "      <td>31</td>\n",
       "      <td>2019-02-17</td>\n",
       "      <td>3</td>\n",
       "      <td>married</td>\n",
       "      <td>40423</td>\n",
       "    </tr>\n",
       "  </tbody>\n",
       "</table>\n",
       "<p>5 rows × 34 columns</p>\n",
       "</div>"
      ],
      "text/plain": [
       "   Order_ID  User_ID  Order_Number  Orders_day_of_the_week  Order_hour_of_day  \\\n",
       "0   2539329        1             1                       2                  8   \n",
       "1   2398795        1             2                       3                  7   \n",
       "2    473747        1             3                       3                 12   \n",
       "3   2254736        1             4                       4                  7   \n",
       "4    431534        1             5                       4                 15   \n",
       "\n",
       "   Days_Since_Prior_Order  Product_ID  Add_To_Cart_Order  Reordered  \\\n",
       "0                     NaN         196                  1          0   \n",
       "1                    15.0         196                  1          1   \n",
       "2                    21.0         196                  1          1   \n",
       "3                    29.0         196                  1          1   \n",
       "4                    28.0         196                  1          1   \n",
       "\n",
       "   Unnamed: 0  ...         Frequency_Flag  First_Name  Last_Name  Gender  \\\n",
       "0         195  ...  Non-frequent customer       Linda     Nguyen  Female   \n",
       "1         195  ...  Non-frequent customer       Linda     Nguyen  Female   \n",
       "2         195  ...  Non-frequent customer       Linda     Nguyen  Female   \n",
       "3         195  ...  Non-frequent customer       Linda     Nguyen  Female   \n",
       "4         195  ...  Non-frequent customer       Linda     Nguyen  Female   \n",
       "\n",
       "     State Age Date_Joined Dependants Family_Status  Income  \n",
       "0  Alabama  31  2019-02-17          3       married   40423  \n",
       "1  Alabama  31  2019-02-17          3       married   40423  \n",
       "2  Alabama  31  2019-02-17          3       married   40423  \n",
       "3  Alabama  31  2019-02-17          3       married   40423  \n",
       "4  Alabama  31  2019-02-17          3       married   40423  \n",
       "\n",
       "[5 rows x 34 columns]"
      ]
     },
     "execution_count": 4,
     "metadata": {},
     "output_type": "execute_result"
    }
   ],
   "source": [
    "df.head()"
   ]
  },
  {
   "cell_type": "markdown",
   "id": "5de6bbf0",
   "metadata": {},
   "source": [
    "## STEP 2\n",
    "*Consider any security implications that might exist for this new data. You’ll need to address any PII data in the data before continuing your analysis*"
   ]
  },
  {
   "cell_type": "code",
   "execution_count": 5,
   "id": "c1b99315",
   "metadata": {
    "scrolled": true
   },
   "outputs": [
    {
     "data": {
      "text/plain": [
       "Index(['Order_ID', 'User_ID', 'Order_Number', 'Orders_day_of_the_week',\n",
       "       'Order_hour_of_day', 'Days_Since_Prior_Order', 'Product_ID',\n",
       "       'Add_To_Cart_Order', 'Reordered', 'Unnamed: 0', 'Product_Name',\n",
       "       'Aisle_ID', 'Department_ID', 'Prices', '_merge', 'Rrice_Range_Loc',\n",
       "       'Busiest_Day', 'Busiest_Days', 'Busiest_Period_of_Day', 'Max_Order',\n",
       "       'Loyalty_Flag', 'Mean_Prices', 'Spending_Flag', 'Median_Days',\n",
       "       'Frequency_Flag', 'First_Name', 'Last_Name', 'Gender', 'State', 'Age',\n",
       "       'Date_Joined', 'Dependants', 'Family_Status', 'Income'],\n",
       "      dtype='object')"
      ]
     },
     "execution_count": 5,
     "metadata": {},
     "output_type": "execute_result"
    }
   ],
   "source": [
    "df.columns"
   ]
  },
  {
   "cell_type": "code",
   "execution_count": 7,
   "id": "fe61178f",
   "metadata": {},
   "outputs": [],
   "source": [
    "# Drop the 'First_Name' and 'Last_Name' columns\n",
    "df = df.drop(['First_Name','Last_Name'],axis=1)"
   ]
  },
  {
   "cell_type": "code",
   "execution_count": 8,
   "id": "d54e3213",
   "metadata": {
    "scrolled": true
   },
   "outputs": [],
   "source": [
    "# drop 'Unnamed: 0' column\n",
    "\n",
    "df = df.drop(columns=['Unnamed: 0'])"
   ]
  },
  {
   "cell_type": "code",
   "execution_count": 9,
   "id": "f265e73f",
   "metadata": {},
   "outputs": [],
   "source": [
    "# Correct typo by Renaming 'Dependants' as 'Dependents'\n",
    "df.rename(columns={'Dependants': 'Dependents'}, inplace=True)"
   ]
  },
  {
   "cell_type": "code",
   "execution_count": 13,
   "id": "cec1ef7a",
   "metadata": {},
   "outputs": [
    {
     "data": {
      "text/plain": [
       "3    8135109\n",
       "0    8097503\n",
       "2    8091143\n",
       "1    8081104\n",
       "Name: Dependents, dtype: int64"
      ]
     },
     "execution_count": 13,
     "metadata": {},
     "output_type": "execute_result"
    }
   ],
   "source": [
    "df['Dependents'].value_counts()"
   ]
  },
  {
   "cell_type": "markdown",
   "id": "ad4424f2",
   "metadata": {},
   "source": [
    "## STEP 3\n",
    "*The Instacart officers are interested in comparing customer behavior in different geographic areas. Create a regional segmentation of the data. You’ll need to create a “Region” column based on the “State” column from your customers*"
   ]
  },
  {
   "cell_type": "markdown",
   "id": "55dc3e41",
   "metadata": {},
   "source": [
    "### STEP 3a\n",
    "*Use the region information in this Wikipedia article to create your column (you only need to create regions, not divisions)*\n",
    "\n",
    "#### Region 1 (Northeast)\n",
    "Maine,\n",
    "New Hampshire,\n",
    "Vermont,\n",
    "Massachusetts,\n",
    "Rhode Island,\n",
    "Connecticut,\n",
    "New York,\n",
    "Pennsylvania,\n",
    "New Jersey\n",
    "#### Region 2 (Midwest)\n",
    "Wisconsin,\n",
    "Michigan,\n",
    "Illinois,\n",
    "Indiana,\n",
    "Ohio,\n",
    "North Dakota,\n",
    "South Dakota,\n",
    "Nebraska,\n",
    "Kansas,\n",
    "Minnesota,\n",
    "Iowa,\n",
    "Missouri\n",
    "#### Region 3 (South)\n",
    "Delaware,\n",
    "Maryland,\n",
    "District of Columbia,\n",
    "Virginia,\n",
    "West Virginia,\n",
    "North Carolina,\n",
    "South Carolina,\n",
    "Georgia,\n",
    "Florida,\n",
    "Kentucky,\n",
    "Tennessee,\n",
    "Mississippi,\n",
    "Alabama,\n",
    "Oklahoma,\n",
    "Texas,\n",
    "Arkansas,\n",
    "Louisiana\n",
    "#### Region 4 (West)\n",
    "Idaho,\n",
    "Montana,\n",
    "Wyoming,\n",
    "Nevada,\n",
    "Utah,\n",
    "Colorado,\n",
    "Arizona,\n",
    "New Mexico,\n",
    "Alaska,\n",
    "Washington,\n",
    "Oregon,\n",
    "California,\n",
    "Hawaii"
   ]
  },
  {
   "cell_type": "code",
   "execution_count": 14,
   "id": "437358cb",
   "metadata": {},
   "outputs": [],
   "source": [
    "# Assign region labels to states\n",
    "# 1 Northeast: Maine, New Hampshire, Vermont, Massachusetts, Rhode Island, Connecticut, New York, Pennsylvania, New Jersey\n",
    "# 2 Midwest: Wisconsin, Michigan, Illinois, Indiana, Ohio, North Dakota, South Dakota, Nebraska, Kansas, Minnesota, Iowa, Missouri\n",
    "# 3 South: Delaware, Maryland, District of Columbia, Virginia, West Virginia, North Carolina, South Carolina, Georgia, Florida, Kentucky, Tennessee, Mississippi, Alabama, Oklahoma, Texas, Arkansas, Louisiana,\n",
    "# 4 West: Idaho, Montana, Wyoming, Nevada, Utah, Colorado, Arizona, New Mexico, Alaska, Washington, Oregon, California, Hawaii\n",
    "\n",
    "result = []\n",
    "\n",
    "for value in df[\"State\"]:\n",
    "  if (value == 'Maine') or (value == 'New Hampshire') or (value == 'Vermont') or (value == 'Massachusetts') or (value == 'Rhode Island') or (value == 'Connecticut') or (value == 'New York') or (value == 'Pennsylvania') or (value == 'New Jersey'):\n",
    "    result.append(\"Northeast\")\n",
    "  elif (value == 'Wisconsin') or (value == 'Michigan') or (value == 'Illinois') or (value == 'Indiana') or (value == 'Ohio') or (value == 'North Dakota') or (value == 'South Dakota') or (value == 'Nebraska') or (value == 'Kansas') or (value == 'Minnesota') or (value == 'Iowa') or (value == 'Missouri'):\n",
    "    result.append(\"Midwest\")\n",
    "  elif (value == 'Idaho') or (value == 'Montana') or (value == 'Wyoming') or (value == 'Nevada') or (value == 'Utah') or (value == 'Colorado') or (value == 'Arizona') or (value == 'New Mexico') or (value == 'Alaska') or (value == 'Washington') or (value == 'Oregon') or (value == 'California') or (value == 'Hawaii'):  \n",
    "    result.append(\"West\")\n",
    "  else:\n",
    "    result.append(\"South\")"
   ]
  },
  {
   "cell_type": "code",
   "execution_count": 15,
   "id": "4c95f105",
   "metadata": {
    "scrolled": false
   },
   "outputs": [
    {
     "data": {
      "text/plain": [
       "South        10791885\n",
       "West          8292913\n",
       "Midwest       7597325\n",
       "Northeast     5722736\n",
       "Name: Region, dtype: int64"
      ]
     },
     "execution_count": 15,
     "metadata": {},
     "output_type": "execute_result"
    }
   ],
   "source": [
    "df['Region'] = result\n",
    "df['Region'].value_counts(dropna = False)"
   ]
  },
  {
   "cell_type": "code",
   "execution_count": 16,
   "id": "ed923bf9",
   "metadata": {},
   "outputs": [
    {
     "data": {
      "text/plain": [
       "(32404859, 32)"
      ]
     },
     "execution_count": 16,
     "metadata": {},
     "output_type": "execute_result"
    }
   ],
   "source": [
    "df.shape"
   ]
  },
  {
   "cell_type": "code",
   "execution_count": 17,
   "id": "2ecc3d8a",
   "metadata": {
    "scrolled": true
   },
   "outputs": [
    {
     "name": "stdout",
     "output_type": "stream",
     "text": [
      "Region\n",
      "Midwest      12\n",
      "Northeast     9\n",
      "South        17\n",
      "West         13\n",
      "Name: State, dtype: int64\n"
     ]
    }
   ],
   "source": [
    "# Check there are the correct number of states in each 'Region' \n",
    "check = df.groupby('Region')['State'].nunique()\n",
    "print(check)"
   ]
  },
  {
   "cell_type": "markdown",
   "id": "1fb49eb1",
   "metadata": {},
   "source": [
    "### STEP 3b\n",
    "*Determine whether there’s a difference in spending habits between the different U.S. regions. (Hint: You can do this by crossing the variable you just created with the spending flag.)*"
   ]
  },
  {
   "cell_type": "code",
   "execution_count": null,
   "id": "acd88915",
   "metadata": {
    "scrolled": true
   },
   "outputs": [],
   "source": [
    "pd.set_option('display.max_columns', None)\n",
    "df.head()"
   ]
  },
  {
   "cell_type": "code",
   "execution_count": null,
   "id": "23a3d205",
   "metadata": {},
   "outputs": [],
   "source": [
    "# Create a crosstab\n",
    "\n",
    "crosstab = pd.crosstab(df['Region'], df['Spending_Flag'], dropna = False)\n"
   ]
  },
  {
   "cell_type": "code",
   "execution_count": null,
   "id": "24139f86",
   "metadata": {},
   "outputs": [],
   "source": [
    "crosstab.to_clipboard()"
   ]
  },
  {
   "cell_type": "markdown",
   "id": "83f1544d",
   "metadata": {},
   "source": [
    "2.1% of Midwest customers are 'High Spenders'\n",
    "1.9% of all other regions customers are 'High Spenders'\n",
    "\n",
    "There is not much difference between the regions in terms of numbers of High and Low spenders"
   ]
  },
  {
   "cell_type": "markdown",
   "id": "c3c9c9b8",
   "metadata": {},
   "source": [
    "## STEP 4\n",
    "*The Instacart CFO isn’t interested in customers who don’t generate much revenue for the app. Create an exclusion flag for low-activity customers (customers with less than 5 orders) and exclude them from the data. Make sure you export this sample.*"
   ]
  },
  {
   "cell_type": "code",
   "execution_count": null,
   "id": "51359175",
   "metadata": {},
   "outputs": [],
   "source": [
    "df.loc[df['Max_Order'] < 5, 'Low_Activity'] = 'Yes'\n",
    "df.loc[df['Max_Order'] >= 5, 'Low_Activity'] = 'No'"
   ]
  },
  {
   "cell_type": "code",
   "execution_count": null,
   "id": "42db834a",
   "metadata": {},
   "outputs": [],
   "source": [
    "df.head()"
   ]
  },
  {
   "cell_type": "code",
   "execution_count": null,
   "id": "68e2f802",
   "metadata": {
    "scrolled": true
   },
   "outputs": [],
   "source": [
    "df.value_counts('Low_Activity')"
   ]
  },
  {
   "cell_type": "code",
   "execution_count": null,
   "id": "b1b73194",
   "metadata": {},
   "outputs": [],
   "source": [
    "# drop rows where 'Low_Activity' does not equal 'Yes' and store in new dataframe df_high_activity'\n",
    "df_high_activity = df[df.Low_Activity != 'Yes']"
   ]
  },
  {
   "cell_type": "code",
   "execution_count": null,
   "id": "506969fe",
   "metadata": {},
   "outputs": [],
   "source": [
    "# Check the shape of new dataframe. Number of rows should equal 'No' value_count from df:\n",
    "df_high_activity.shape"
   ]
  },
  {
   "cell_type": "code",
   "execution_count": null,
   "id": "e7bfef43",
   "metadata": {},
   "outputs": [],
   "source": [
    "# Export this data frame\n",
    "df_high_activity.to_pickle((os.path.join(path, '02 Data', '02b Prepared Data', 'orders_products_merged_high_activity.pkl')))"
   ]
  },
  {
   "cell_type": "code",
   "execution_count": null,
   "id": "4f29a053",
   "metadata": {},
   "outputs": [],
   "source": []
  }
 ],
 "metadata": {
  "kernelspec": {
   "display_name": "Python 3 (ipykernel)",
   "language": "python",
   "name": "python3"
  },
  "language_info": {
   "codemirror_mode": {
    "name": "ipython",
    "version": 3
   },
   "file_extension": ".py",
   "mimetype": "text/x-python",
   "name": "python",
   "nbconvert_exporter": "python",
   "pygments_lexer": "ipython3",
   "version": "3.9.13"
  }
 },
 "nbformat": 4,
 "nbformat_minor": 5
}
