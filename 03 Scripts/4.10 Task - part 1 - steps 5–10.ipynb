{
 "cells": [
  {
   "cell_type": "markdown",
   "id": "ffd2adfc",
   "metadata": {},
   "source": [
    "# 1. Import libraries and data"
   ]
  },
  {
   "cell_type": "code",
   "execution_count": 2,
   "id": "f04c0070",
   "metadata": {},
   "outputs": [],
   "source": [
    "# import libraries\n",
    "\n",
    "import pandas as pd\n",
    "import numpy as np\n",
    "import os\n",
    "import matplotlib.pyplot as plt\n",
    "import seaborn as sns\n",
    "import scipy\n",
    "plt.style.use('ggplot')"
   ]
  },
  {
   "cell_type": "code",
   "execution_count": 3,
   "id": "44f1e56b",
   "metadata": {},
   "outputs": [],
   "source": [
    "# Turn your project folder path into a string\n",
    "\n",
    "path = r'/Users/peterreadman/Desktop/Python Projects/CareerFoundry/04-2020 Instacart Basket Analysis/'"
   ]
  },
  {
   "cell_type": "code",
   "execution_count": 4,
   "id": "4ab09120",
   "metadata": {},
   "outputs": [],
   "source": [
    "# import pickle file\n",
    "\n",
    "df = pd.read_pickle(os.path.join(path,'02 Data','02b Prepared Data','orders_products_merged_high_activity.pkl'))"
   ]
  },
  {
   "cell_type": "code",
   "execution_count": 5,
   "id": "924cf0b4",
   "metadata": {},
   "outputs": [],
   "source": [
    "pd.set_option('display.max_columns', None)"
   ]
  },
  {
   "cell_type": "code",
   "execution_count": 6,
   "id": "f41ff3a7",
   "metadata": {
    "scrolled": true
   },
   "outputs": [
    {
     "data": {
      "text/html": [
       "<div>\n",
       "<style scoped>\n",
       "    .dataframe tbody tr th:only-of-type {\n",
       "        vertical-align: middle;\n",
       "    }\n",
       "\n",
       "    .dataframe tbody tr th {\n",
       "        vertical-align: top;\n",
       "    }\n",
       "\n",
       "    .dataframe thead th {\n",
       "        text-align: right;\n",
       "    }\n",
       "</style>\n",
       "<table border=\"1\" class=\"dataframe\">\n",
       "  <thead>\n",
       "    <tr style=\"text-align: right;\">\n",
       "      <th></th>\n",
       "      <th>Order_ID</th>\n",
       "      <th>User_ID</th>\n",
       "      <th>Order_Number</th>\n",
       "      <th>Orders_day_of_the_week</th>\n",
       "      <th>Order_hour_of_day</th>\n",
       "      <th>Days_Since_Prior_Order</th>\n",
       "      <th>Product_ID</th>\n",
       "      <th>Add_To_Cart_Order</th>\n",
       "      <th>Reordered</th>\n",
       "      <th>Product_Name</th>\n",
       "      <th>Aisle_ID</th>\n",
       "      <th>Department_ID</th>\n",
       "      <th>Prices</th>\n",
       "      <th>Rrice_Range_Loc</th>\n",
       "      <th>Busiest_Day</th>\n",
       "      <th>Busiest_Days</th>\n",
       "      <th>Busiest_Period_of_Day</th>\n",
       "      <th>Max_Order</th>\n",
       "      <th>Loyalty_Flag</th>\n",
       "      <th>Mean_Prices</th>\n",
       "      <th>Spending_Flag</th>\n",
       "      <th>Median_Days</th>\n",
       "      <th>Frequency_Flag</th>\n",
       "      <th>Gender</th>\n",
       "      <th>State</th>\n",
       "      <th>Age</th>\n",
       "      <th>Date_Joined</th>\n",
       "      <th>Dependents</th>\n",
       "      <th>Family_Status</th>\n",
       "      <th>Income</th>\n",
       "      <th>Region</th>\n",
       "      <th>Low_Activity</th>\n",
       "    </tr>\n",
       "  </thead>\n",
       "  <tbody>\n",
       "    <tr>\n",
       "      <th>0</th>\n",
       "      <td>2539329</td>\n",
       "      <td>1</td>\n",
       "      <td>1</td>\n",
       "      <td>2</td>\n",
       "      <td>8</td>\n",
       "      <td>NaN</td>\n",
       "      <td>196</td>\n",
       "      <td>1</td>\n",
       "      <td>0</td>\n",
       "      <td>Soda</td>\n",
       "      <td>77</td>\n",
       "      <td>7</td>\n",
       "      <td>9.0</td>\n",
       "      <td>Mid-range product</td>\n",
       "      <td>Regularly busy</td>\n",
       "      <td>Regularly busy</td>\n",
       "      <td>Average orders</td>\n",
       "      <td>10</td>\n",
       "      <td>New customer</td>\n",
       "      <td>6.367797</td>\n",
       "      <td>Low spender</td>\n",
       "      <td>20.5</td>\n",
       "      <td>Non-frequent customer</td>\n",
       "      <td>Female</td>\n",
       "      <td>Alabama</td>\n",
       "      <td>31</td>\n",
       "      <td>2019-02-17</td>\n",
       "      <td>3</td>\n",
       "      <td>married</td>\n",
       "      <td>40423</td>\n",
       "      <td>South</td>\n",
       "      <td>No</td>\n",
       "    </tr>\n",
       "    <tr>\n",
       "      <th>1</th>\n",
       "      <td>2398795</td>\n",
       "      <td>1</td>\n",
       "      <td>2</td>\n",
       "      <td>3</td>\n",
       "      <td>7</td>\n",
       "      <td>15.0</td>\n",
       "      <td>196</td>\n",
       "      <td>1</td>\n",
       "      <td>1</td>\n",
       "      <td>Soda</td>\n",
       "      <td>77</td>\n",
       "      <td>7</td>\n",
       "      <td>9.0</td>\n",
       "      <td>Mid-range product</td>\n",
       "      <td>Regularly busy</td>\n",
       "      <td>Least busy days</td>\n",
       "      <td>Average orders</td>\n",
       "      <td>10</td>\n",
       "      <td>New customer</td>\n",
       "      <td>6.367797</td>\n",
       "      <td>Low spender</td>\n",
       "      <td>20.5</td>\n",
       "      <td>Non-frequent customer</td>\n",
       "      <td>Female</td>\n",
       "      <td>Alabama</td>\n",
       "      <td>31</td>\n",
       "      <td>2019-02-17</td>\n",
       "      <td>3</td>\n",
       "      <td>married</td>\n",
       "      <td>40423</td>\n",
       "      <td>South</td>\n",
       "      <td>No</td>\n",
       "    </tr>\n",
       "    <tr>\n",
       "      <th>2</th>\n",
       "      <td>473747</td>\n",
       "      <td>1</td>\n",
       "      <td>3</td>\n",
       "      <td>3</td>\n",
       "      <td>12</td>\n",
       "      <td>21.0</td>\n",
       "      <td>196</td>\n",
       "      <td>1</td>\n",
       "      <td>1</td>\n",
       "      <td>Soda</td>\n",
       "      <td>77</td>\n",
       "      <td>7</td>\n",
       "      <td>9.0</td>\n",
       "      <td>Mid-range product</td>\n",
       "      <td>Regularly busy</td>\n",
       "      <td>Least busy days</td>\n",
       "      <td>Most orders</td>\n",
       "      <td>10</td>\n",
       "      <td>New customer</td>\n",
       "      <td>6.367797</td>\n",
       "      <td>Low spender</td>\n",
       "      <td>20.5</td>\n",
       "      <td>Non-frequent customer</td>\n",
       "      <td>Female</td>\n",
       "      <td>Alabama</td>\n",
       "      <td>31</td>\n",
       "      <td>2019-02-17</td>\n",
       "      <td>3</td>\n",
       "      <td>married</td>\n",
       "      <td>40423</td>\n",
       "      <td>South</td>\n",
       "      <td>No</td>\n",
       "    </tr>\n",
       "    <tr>\n",
       "      <th>3</th>\n",
       "      <td>2254736</td>\n",
       "      <td>1</td>\n",
       "      <td>4</td>\n",
       "      <td>4</td>\n",
       "      <td>7</td>\n",
       "      <td>29.0</td>\n",
       "      <td>196</td>\n",
       "      <td>1</td>\n",
       "      <td>1</td>\n",
       "      <td>Soda</td>\n",
       "      <td>77</td>\n",
       "      <td>7</td>\n",
       "      <td>9.0</td>\n",
       "      <td>Mid-range product</td>\n",
       "      <td>Least busy</td>\n",
       "      <td>Least busy days</td>\n",
       "      <td>Average orders</td>\n",
       "      <td>10</td>\n",
       "      <td>New customer</td>\n",
       "      <td>6.367797</td>\n",
       "      <td>Low spender</td>\n",
       "      <td>20.5</td>\n",
       "      <td>Non-frequent customer</td>\n",
       "      <td>Female</td>\n",
       "      <td>Alabama</td>\n",
       "      <td>31</td>\n",
       "      <td>2019-02-17</td>\n",
       "      <td>3</td>\n",
       "      <td>married</td>\n",
       "      <td>40423</td>\n",
       "      <td>South</td>\n",
       "      <td>No</td>\n",
       "    </tr>\n",
       "    <tr>\n",
       "      <th>4</th>\n",
       "      <td>431534</td>\n",
       "      <td>1</td>\n",
       "      <td>5</td>\n",
       "      <td>4</td>\n",
       "      <td>15</td>\n",
       "      <td>28.0</td>\n",
       "      <td>196</td>\n",
       "      <td>1</td>\n",
       "      <td>1</td>\n",
       "      <td>Soda</td>\n",
       "      <td>77</td>\n",
       "      <td>7</td>\n",
       "      <td>9.0</td>\n",
       "      <td>Mid-range product</td>\n",
       "      <td>Least busy</td>\n",
       "      <td>Least busy days</td>\n",
       "      <td>Most orders</td>\n",
       "      <td>10</td>\n",
       "      <td>New customer</td>\n",
       "      <td>6.367797</td>\n",
       "      <td>Low spender</td>\n",
       "      <td>20.5</td>\n",
       "      <td>Non-frequent customer</td>\n",
       "      <td>Female</td>\n",
       "      <td>Alabama</td>\n",
       "      <td>31</td>\n",
       "      <td>2019-02-17</td>\n",
       "      <td>3</td>\n",
       "      <td>married</td>\n",
       "      <td>40423</td>\n",
       "      <td>South</td>\n",
       "      <td>No</td>\n",
       "    </tr>\n",
       "  </tbody>\n",
       "</table>\n",
       "</div>"
      ],
      "text/plain": [
       "   Order_ID  User_ID  Order_Number  Orders_day_of_the_week  Order_hour_of_day  \\\n",
       "0   2539329        1             1                       2                  8   \n",
       "1   2398795        1             2                       3                  7   \n",
       "2    473747        1             3                       3                 12   \n",
       "3   2254736        1             4                       4                  7   \n",
       "4    431534        1             5                       4                 15   \n",
       "\n",
       "   Days_Since_Prior_Order  Product_ID  Add_To_Cart_Order  Reordered  \\\n",
       "0                     NaN         196                  1          0   \n",
       "1                    15.0         196                  1          1   \n",
       "2                    21.0         196                  1          1   \n",
       "3                    29.0         196                  1          1   \n",
       "4                    28.0         196                  1          1   \n",
       "\n",
       "  Product_Name  Aisle_ID  Department_ID  Prices    Rrice_Range_Loc  \\\n",
       "0         Soda        77              7     9.0  Mid-range product   \n",
       "1         Soda        77              7     9.0  Mid-range product   \n",
       "2         Soda        77              7     9.0  Mid-range product   \n",
       "3         Soda        77              7     9.0  Mid-range product   \n",
       "4         Soda        77              7     9.0  Mid-range product   \n",
       "\n",
       "      Busiest_Day     Busiest_Days Busiest_Period_of_Day  Max_Order  \\\n",
       "0  Regularly busy   Regularly busy        Average orders         10   \n",
       "1  Regularly busy  Least busy days        Average orders         10   \n",
       "2  Regularly busy  Least busy days           Most orders         10   \n",
       "3      Least busy  Least busy days        Average orders         10   \n",
       "4      Least busy  Least busy days           Most orders         10   \n",
       "\n",
       "   Loyalty_Flag  Mean_Prices Spending_Flag  Median_Days  \\\n",
       "0  New customer     6.367797   Low spender         20.5   \n",
       "1  New customer     6.367797   Low spender         20.5   \n",
       "2  New customer     6.367797   Low spender         20.5   \n",
       "3  New customer     6.367797   Low spender         20.5   \n",
       "4  New customer     6.367797   Low spender         20.5   \n",
       "\n",
       "          Frequency_Flag  Gender    State  Age Date_Joined  Dependents  \\\n",
       "0  Non-frequent customer  Female  Alabama   31  2019-02-17           3   \n",
       "1  Non-frequent customer  Female  Alabama   31  2019-02-17           3   \n",
       "2  Non-frequent customer  Female  Alabama   31  2019-02-17           3   \n",
       "3  Non-frequent customer  Female  Alabama   31  2019-02-17           3   \n",
       "4  Non-frequent customer  Female  Alabama   31  2019-02-17           3   \n",
       "\n",
       "  Family_Status  Income Region Low_Activity  \n",
       "0       married   40423  South           No  \n",
       "1       married   40423  South           No  \n",
       "2       married   40423  South           No  \n",
       "3       married   40423  South           No  \n",
       "4       married   40423  South           No  "
      ]
     },
     "execution_count": 6,
     "metadata": {},
     "output_type": "execute_result"
    }
   ],
   "source": [
    "df.head()"
   ]
  },
  {
   "cell_type": "markdown",
   "id": "a6b7192a",
   "metadata": {},
   "source": [
    "# Step 5: Customer Profiles\n",
    "## 5a. Customers by Age Group"
   ]
  },
  {
   "cell_type": "code",
   "execution_count": 7,
   "id": "c89f973e",
   "metadata": {
    "scrolled": false
   },
   "outputs": [
    {
     "data": {
      "text/plain": [
       "count    3.096456e+07\n",
       "mean     4.946803e+01\n",
       "std      1.848528e+01\n",
       "min      1.800000e+01\n",
       "25%      3.300000e+01\n",
       "50%      4.900000e+01\n",
       "75%      6.500000e+01\n",
       "max      8.100000e+01\n",
       "Name: Age, dtype: float64"
      ]
     },
     "execution_count": 7,
     "metadata": {},
     "output_type": "execute_result"
    }
   ],
   "source": [
    "# Explore the 'Age' column for age range of customers \n",
    "df['Age'].describe()"
   ]
  },
  {
   "cell_type": "markdown",
   "id": "24b0416c",
   "metadata": {},
   "source": [
    "**Observations:**\n",
    "- The youngest customers are 18</br>\n",
    "- The oldest customers are 81\n",
    "- The average (mean) customer age is 49"
   ]
  },
  {
   "cell_type": "code",
   "execution_count": 8,
   "id": "8f336395",
   "metadata": {},
   "outputs": [
    {
     "data": {
      "text/plain": [
       "18    478457\n",
       "19    496077\n",
       "20    480194\n",
       "21    489116\n",
       "22    490811\n",
       "       ...  \n",
       "77    477999\n",
       "78    471119\n",
       "79    508337\n",
       "80    492750\n",
       "81    485847\n",
       "Name: Age, Length: 64, dtype: int64"
      ]
     },
     "execution_count": 8,
     "metadata": {},
     "output_type": "execute_result"
    }
   ],
   "source": [
    "# How many of each age are there\n",
    "df['Age'].value_counts().sort_index()"
   ]
  },
  {
   "cell_type": "code",
   "execution_count": 9,
   "id": "29f53ab8",
   "metadata": {},
   "outputs": [],
   "source": [
    "# Create three age-groups: Young Adult (18–39), Middle-Age (40–64), Seniors (65+)\n",
    "# Condition for 'Young Adult'\n",
    "df.loc[df['Age'] <= 39, 'Age_Group'] = 'Young Adult'"
   ]
  },
  {
   "cell_type": "code",
   "execution_count": 10,
   "id": "c4120e59",
   "metadata": {},
   "outputs": [],
   "source": [
    "# Condition for 'Middle-Aged'\n",
    "df.loc[(df['Age'] >= 40) & (df['Age'] <=64), 'Age_Group'] = 'Middle-Aged'"
   ]
  },
  {
   "cell_type": "code",
   "execution_count": 11,
   "id": "c3a8a7e6",
   "metadata": {},
   "outputs": [],
   "source": [
    "# Condition for 'Senior'\n",
    "df.loc[df['Age'] >=65, 'Age_Group'] = 'Senior'"
   ]
  },
  {
   "cell_type": "code",
   "execution_count": 12,
   "id": "2652217c",
   "metadata": {},
   "outputs": [
    {
     "data": {
      "text/plain": [
       "Middle-Aged    12103910\n",
       "Young Adult    10665110\n",
       "Senior          8195544\n",
       "Name: Age_Group, dtype: int64"
      ]
     },
     "execution_count": 12,
     "metadata": {},
     "output_type": "execute_result"
    }
   ],
   "source": [
    "df['Age_Group'].value_counts(dropna = False)"
   ]
  },
  {
   "cell_type": "markdown",
   "id": "486e6ab0",
   "metadata": {},
   "source": [
    "**Observations:**\n",
    "- Middle-Aged (40–64) is the largest age-group in terms of customers\n",
    "- Senior (65+) is the smallest age-group in terms of customers"
   ]
  },
  {
   "cell_type": "code",
   "execution_count": 13,
   "id": "030790a1",
   "metadata": {},
   "outputs": [
    {
     "data": {
      "text/plain": [
       "Text(0, 0.5, '')"
      ]
     },
     "execution_count": 13,
     "metadata": {},
     "output_type": "execute_result"
    },
    {
     "data": {
      "image/png": "[encoded data removed]",
      "text/plain": [
       "<Figure size 640x480 with 1 Axes>"
      ]
     },
     "metadata": {},
     "output_type": "display_data"
    }
   ],
   "source": [
    "# Plot the distribution of Age Groups (count of orders)\n",
    "\n",
    "age_group_bar = df['Age_Group'].value_counts().sort_index().plot(kind='barh', title='Middle-Aged Customers made the most orders')\n",
    "\n",
    "age_group_bar.set_xlabel('Orders (Millions)')\n",
    "age_group_bar.set_ylabel('')"
   ]
  },
  {
   "cell_type": "markdown",
   "id": "c40d9931",
   "metadata": {},
   "source": [
    "## 5b. Customers by Income"
   ]
  },
  {
   "cell_type": "code",
   "execution_count": 14,
   "id": "1bc1ad21",
   "metadata": {},
   "outputs": [
    {
     "data": {
      "text/plain": [
       "count    3.096456e+07\n",
       "mean     9.967587e+04\n",
       "std      4.314187e+04\n",
       "min      2.590300e+04\n",
       "25%      6.729200e+04\n",
       "50%      9.676500e+04\n",
       "75%      1.281020e+05\n",
       "max      5.939010e+05\n",
       "Name: Income, dtype: float64"
      ]
     },
     "execution_count": 14,
     "metadata": {},
     "output_type": "execute_result"
    }
   ],
   "source": [
    "# Explore the income column\n",
    "df['Income'].describe()"
   ]
  },
  {
   "cell_type": "markdown",
   "id": "e5e9925a",
   "metadata": {},
   "source": [
    "**Observations:**\n",
    "- mean customer income = 99,895\n",
    "- lowest customer income = 25,903\n",
    "- highest customer income = 593,901"
   ]
  },
  {
   "cell_type": "code",
   "execution_count": 15,
   "id": "7fe367e5",
   "metadata": {},
   "outputs": [
    {
     "name": "stdout",
     "output_type": "stream",
     "text": [
      "Median income:  96765.0\n"
     ]
    }
   ],
   "source": [
    "# Calculate the median income\n",
    "median_income = df['Income'].median()\n",
    "\n",
    "print(\"Median income: \", median_income)"
   ]
  },
  {
   "cell_type": "code",
   "execution_count": 16,
   "id": "ac59b629",
   "metadata": {},
   "outputs": [],
   "source": [
    "# Create income groups:\n",
    "# Low Income: Less than $50,000\n",
    "# Middle Income: $50,000 to $99,999\n",
    "# Upper-Middle Income: $100,000 to $199,999\n",
    "# High Income: $200,000 and above\n",
    "\n",
    "# Create category for 'Low Income'\n",
    "df.loc[df['Income'] < 50000, 'Income_Bracket'] = 'Low Income'"
   ]
  },
  {
   "cell_type": "code",
   "execution_count": 17,
   "id": "1df1b5e4",
   "metadata": {},
   "outputs": [],
   "source": [
    "# Create cateory for 'Middle Income'\n",
    "df.loc[(df['Income'] >= 50000) & (df['Income'] <100000), 'Income_Bracket'] = 'Middle Income'"
   ]
  },
  {
   "cell_type": "code",
   "execution_count": 18,
   "id": "9a3d229d",
   "metadata": {},
   "outputs": [],
   "source": [
    "# Create condition for 'Upper-Middle Income'\n",
    "df.loc[(df['Income'] >= 100000) & (df['Income'] < 200000), 'Income_Bracket'] = 'Upper-Middle Income'"
   ]
  },
  {
   "cell_type": "code",
   "execution_count": 19,
   "id": "4674fdcd",
   "metadata": {},
   "outputs": [],
   "source": [
    "# Create condition for 'High Income'\n",
    "df.loc[df['Income'] >= 200000, 'Income_Bracket'] = 'High Income'"
   ]
  },
  {
   "cell_type": "code",
   "execution_count": 20,
   "id": "8e4a649a",
   "metadata": {
    "scrolled": true
   },
   "outputs": [
    {
     "data": {
      "text/plain": [
       "Upper-Middle Income    13953260\n",
       "Middle Income          13394608\n",
       "Low Income              3362554\n",
       "High Income              254142\n",
       "Name: Income_Bracket, dtype: int64"
      ]
     },
     "execution_count": 20,
     "metadata": {},
     "output_type": "execute_result"
    }
   ],
   "source": [
    "# Check the value counts of 'Income_Bracket'\n",
    "df['Income_Bracket'].value_counts(dropna = False).sort_index(ascending=False)"
   ]
  },
  {
   "cell_type": "markdown",
   "id": "7585134a",
   "metadata": {},
   "source": [
    "**Observations:**\n",
    "- Most customers fall into the Upper-Middle Income bracket, with the Middle Income bracket having the second most customers\n",
    "- the High Income bracket has the fewest customers\n",
    "- plot income bracket against orders and/or prices of products ordered"
   ]
  },
  {
   "cell_type": "code",
   "execution_count": 21,
   "id": "d9585002",
   "metadata": {},
   "outputs": [
    {
     "data": {
      "text/plain": [
       "Text(0, 0.5, '')"
      ]
     },
     "execution_count": 21,
     "metadata": {},
     "output_type": "execute_result"
    },
    {
     "data": {
      "image/png": "[encoded data removed]",
      "text/plain": [
       "<Figure size 640x480 with 1 Axes>"
      ]
     },
     "metadata": {},
     "output_type": "display_data"
    }
   ],
   "source": [
    "# Plot the distribution of Income Bracket (count of orders)\n",
    "\n",
    "ax = df['Income_Bracket'].value_counts().sort_index().plot(kind='barh', title='Most Orders are placed by Upper-Middle Income Customers')\n",
    "\n",
    "ax.set_xlabel('Orders (Millions)')\n",
    "ax.set_ylabel('')"
   ]
  },
  {
   "cell_type": "markdown",
   "id": "e5b36328",
   "metadata": {},
   "source": [
    "## 5c. Customers by dependents (Household Size)"
   ]
  },
  {
   "cell_type": "code",
   "execution_count": 22,
   "id": "a758b1d3",
   "metadata": {},
   "outputs": [
    {
     "data": {
      "text/plain": [
       "count    3.096456e+07\n",
       "mean     1.501819e+00\n",
       "std      1.118896e+00\n",
       "min      0.000000e+00\n",
       "25%      1.000000e+00\n",
       "50%      2.000000e+00\n",
       "75%      3.000000e+00\n",
       "max      3.000000e+00\n",
       "Name: Dependents, dtype: float64"
      ]
     },
     "execution_count": 22,
     "metadata": {},
     "output_type": "execute_result"
    }
   ],
   "source": [
    "# Explore the 'Dependents' variable\n",
    "\n",
    "df['Dependents'].describe()"
   ]
  },
  {
   "cell_type": "markdown",
   "id": "55bbe95f",
   "metadata": {},
   "source": [
    "**Observations:**\n",
    "- number of dependants range from 0–3"
   ]
  },
  {
   "cell_type": "code",
   "execution_count": 23,
   "id": "f0e22db2",
   "metadata": {},
   "outputs": [
    {
     "name": "stdout",
     "output_type": "stream",
     "text": [
      "The mode number of dependents:  0    3\n",
      "Name: Dependents, dtype: int64\n"
     ]
    }
   ],
   "source": [
    "# Calculate the mode number of dependants\n",
    "mode_dependents = df['Dependents'].mode()\n",
    "\n",
    "print(\"The mode number of dependents: \", mode_dependents)"
   ]
  },
  {
   "cell_type": "code",
   "execution_count": 24,
   "id": "190f3ed3",
   "metadata": {},
   "outputs": [
    {
     "data": {
      "text/plain": [
       "married                             21743711\n",
       "single                               5094410\n",
       "divorced/widowed                     2645271\n",
       "living with parents and siblings     1481172\n",
       "Name: Family_Status, dtype: int64"
      ]
     },
     "execution_count": 24,
     "metadata": {},
     "output_type": "execute_result"
    }
   ],
   "source": [
    "# Explore the 'Family_Status' column\n",
    "\n",
    "df['Family_Status'].value_counts()"
   ]
  },
  {
   "cell_type": "code",
   "execution_count": 25,
   "id": "6cad36e9",
   "metadata": {},
   "outputs": [
    {
     "data": {
      "text/plain": [
       "married                             0.70\n",
       "single                              0.16\n",
       "divorced/widowed                    0.09\n",
       "living with parents and siblings    0.05\n",
       "Name: Family_Status, dtype: float64"
      ]
     },
     "execution_count": 25,
     "metadata": {},
     "output_type": "execute_result"
    }
   ],
   "source": [
    "# get the percentage of each value for 'Family_Status'\n",
    "\n",
    "df['Family_Status'].value_counts(normalize=True).round(2)"
   ]
  },
  {
   "cell_type": "code",
   "execution_count": 26,
   "id": "638b151b",
   "metadata": {},
   "outputs": [
    {
     "data": {
      "text/plain": [
       "Family_Status                     Dependents\n",
       "divorced/widowed                  0             2645271\n",
       "living with parents and siblings  1              508045\n",
       "                                  2              484658\n",
       "                                  3              488469\n",
       "married                           1             7211061\n",
       "                                  2             7248603\n",
       "                                  3             7284047\n",
       "single                            0             5094410\n",
       "dtype: int64"
      ]
     },
     "execution_count": 26,
     "metadata": {},
     "output_type": "execute_result"
    }
   ],
   "source": [
    "df.groupby(['Family_Status', 'Dependents']).size().sort_index()"
   ]
  },
  {
   "cell_type": "markdown",
   "id": "21d76c7c",
   "metadata": {},
   "source": [
    "Is it fair to assume family sizes:\n",
    "- married = customer + dependents + spouse OR [dependents + 2]\n",
    "- divorced/widowed = dependents + 1\n",
    "- single = dependents + 1\n",
    "- living with parents and siblings = dependents + 1 + n (where n is unknown\n"
   ]
  },
  {
   "cell_type": "code",
   "execution_count": 27,
   "id": "f1c10d29",
   "metadata": {
    "scrolled": true
   },
   "outputs": [
    {
     "data": {
      "text/plain": [
       "3    7772516\n",
       "0    7739681\n",
       "2    7733261\n",
       "1    7719106\n",
       "Name: Dependents, dtype: int64"
      ]
     },
     "execution_count": 27,
     "metadata": {},
     "output_type": "execute_result"
    }
   ],
   "source": [
    "# call value counts of dependents\n",
    "\n",
    "df['Dependents'].value_counts()"
   ]
  },
  {
   "cell_type": "code",
   "execution_count": 28,
   "id": "4050fa0b",
   "metadata": {},
   "outputs": [],
   "source": [
    "# Create groups for 'Family_Size' based on dependents as 'Small' 'Medium' Large'\n",
    "# Create condition for 'Small'\n",
    "\n",
    "df.loc[df['Dependents'] < 1, 'Household_Size'] = 'Small'"
   ]
  },
  {
   "cell_type": "code",
   "execution_count": 29,
   "id": "a8aac695",
   "metadata": {},
   "outputs": [],
   "source": [
    "# Create condition for 'Medium'\n",
    "\n",
    "df.loc[(df['Dependents'] > 0) & (df['Dependents'] < 3), 'Household_Size'] = 'Medium'"
   ]
  },
  {
   "cell_type": "code",
   "execution_count": 30,
   "id": "4257dfe4",
   "metadata": {},
   "outputs": [],
   "source": [
    "# Create condition for 'Large'\n",
    "\n",
    "df.loc[df['Dependents'] > 2, 'Household_Size'] = 'Large'"
   ]
  },
  {
   "cell_type": "code",
   "execution_count": 31,
   "id": "e2d6ffb3",
   "metadata": {},
   "outputs": [
    {
     "data": {
      "text/plain": [
       "Medium    15452367\n",
       "Large      7772516\n",
       "Small      7739681\n",
       "Name: Household_Size, dtype: int64"
      ]
     },
     "execution_count": 31,
     "metadata": {},
     "output_type": "execute_result"
    }
   ],
   "source": [
    "df['Household_Size'].value_counts()"
   ]
  },
  {
   "cell_type": "markdown",
   "id": "c4f14886",
   "metadata": {},
   "source": [
    "**Observations:**\n",
    "- Approximately half of Instacart customers have a Medium-size household\n",
    "- The other half of Instacart customers are divided roughly equally into Large and Small household sizes"
   ]
  },
  {
   "cell_type": "code",
   "execution_count": 32,
   "id": "3922652c",
   "metadata": {},
   "outputs": [
    {
     "data": {
      "text/plain": [
       "Text(0, 0.5, 'Number of Orders')"
      ]
     },
     "execution_count": 32,
     "metadata": {},
     "output_type": "execute_result"
    },
    {
     "data": {
      "image/png": "[encoded data removed]",
      "text/plain": [
       "<Figure size 640x480 with 1 Axes>"
      ]
     },
     "metadata": {},
     "output_type": "display_data"
    }
   ],
   "source": [
    "# Plot the distribution of Household Size (count of orders)\n",
    "\n",
    "ax = df['Household_Size'].value_counts().sort_index().plot(kind='bar', title='Sales by Household Size')\n",
    "\n",
    "ax.set_xlabel('Household Size')\n",
    "ax.set_ylabel('Number of Orders')"
   ]
  },
  {
   "cell_type": "markdown",
   "id": "d50f3592",
   "metadata": {},
   "source": [
    "## Customer profiles based on products purchased\n",
    "- customer profile for: from **Babies** department\n",
    "- customer profile for: from **Pets** department"
   ]
  },
  {
   "cell_type": "code",
   "execution_count": 33,
   "id": "16971a44",
   "metadata": {},
   "outputs": [],
   "source": [
    "# import departments dataframe\n",
    "\n",
    "depts = pd.read_csv(os.path.join(path, '02 Data','02b Prepared Data', 'departments_wrangled.csv'))"
   ]
  },
  {
   "cell_type": "code",
   "execution_count": 34,
   "id": "736e769f",
   "metadata": {},
   "outputs": [],
   "source": [
    "# Rename 'Unnamed: 0' column to 'Department_ID'\n",
    "\n",
    "depts.rename(columns={'Unnamed: 0': 'Department_ID', 'department': 'Department'}, inplace=True)"
   ]
  },
  {
   "cell_type": "code",
   "execution_count": 35,
   "id": "02abc555",
   "metadata": {
    "scrolled": false
   },
   "outputs": [
    {
     "data": {
      "text/html": [
       "<div>\n",
       "<style scoped>\n",
       "    .dataframe tbody tr th:only-of-type {\n",
       "        vertical-align: middle;\n",
       "    }\n",
       "\n",
       "    .dataframe tbody tr th {\n",
       "        vertical-align: top;\n",
       "    }\n",
       "\n",
       "    .dataframe thead th {\n",
       "        text-align: right;\n",
       "    }\n",
       "</style>\n",
       "<table border=\"1\" class=\"dataframe\">\n",
       "  <thead>\n",
       "    <tr style=\"text-align: right;\">\n",
       "      <th></th>\n",
       "      <th>Department_ID</th>\n",
       "      <th>Department</th>\n",
       "    </tr>\n",
       "  </thead>\n",
       "  <tbody>\n",
       "    <tr>\n",
       "      <th>0</th>\n",
       "      <td>1</td>\n",
       "      <td>frozen</td>\n",
       "    </tr>\n",
       "    <tr>\n",
       "      <th>1</th>\n",
       "      <td>2</td>\n",
       "      <td>other</td>\n",
       "    </tr>\n",
       "    <tr>\n",
       "      <th>2</th>\n",
       "      <td>3</td>\n",
       "      <td>bakery</td>\n",
       "    </tr>\n",
       "    <tr>\n",
       "      <th>3</th>\n",
       "      <td>4</td>\n",
       "      <td>produce</td>\n",
       "    </tr>\n",
       "    <tr>\n",
       "      <th>4</th>\n",
       "      <td>5</td>\n",
       "      <td>alcohol</td>\n",
       "    </tr>\n",
       "  </tbody>\n",
       "</table>\n",
       "</div>"
      ],
      "text/plain": [
       "   Department_ID Department\n",
       "0              1     frozen\n",
       "1              2      other\n",
       "2              3     bakery\n",
       "3              4    produce\n",
       "4              5    alcohol"
      ]
     },
     "execution_count": 35,
     "metadata": {},
     "output_type": "execute_result"
    }
   ],
   "source": [
    "depts.head()"
   ]
  },
  {
   "cell_type": "code",
   "execution_count": 36,
   "id": "5038b6cd",
   "metadata": {},
   "outputs": [],
   "source": [
    "data_dict = depts.to_dict('index')"
   ]
  },
  {
   "cell_type": "code",
   "execution_count": 37,
   "id": "4f908a6c",
   "metadata": {
    "scrolled": true
   },
   "outputs": [
    {
     "data": {
      "text/plain": [
       "{0: {'Department_ID': 1, 'Department': 'frozen'},\n",
       " 1: {'Department_ID': 2, 'Department': 'other'},\n",
       " 2: {'Department_ID': 3, 'Department': 'bakery'},\n",
       " 3: {'Department_ID': 4, 'Department': 'produce'},\n",
       " 4: {'Department_ID': 5, 'Department': 'alcohol'},\n",
       " 5: {'Department_ID': 6, 'Department': 'international'},\n",
       " 6: {'Department_ID': 7, 'Department': 'beverages'},\n",
       " 7: {'Department_ID': 8, 'Department': 'pets'},\n",
       " 8: {'Department_ID': 9, 'Department': 'dry goods pasta'},\n",
       " 9: {'Department_ID': 10, 'Department': 'bulk'},\n",
       " 10: {'Department_ID': 11, 'Department': 'personal care'},\n",
       " 11: {'Department_ID': 12, 'Department': 'meat seafood'},\n",
       " 12: {'Department_ID': 13, 'Department': 'pantry'},\n",
       " 13: {'Department_ID': 14, 'Department': 'breakfast'},\n",
       " 14: {'Department_ID': 15, 'Department': 'canned goods'},\n",
       " 15: {'Department_ID': 16, 'Department': 'dairy eggs'},\n",
       " 16: {'Department_ID': 17, 'Department': 'household'},\n",
       " 17: {'Department_ID': 18, 'Department': 'babies'},\n",
       " 18: {'Department_ID': 19, 'Department': 'snacks'},\n",
       " 19: {'Department_ID': 20, 'Department': 'deli'},\n",
       " 20: {'Department_ID': 21, 'Department': 'missing'}}"
      ]
     },
     "execution_count": 37,
     "metadata": {},
     "output_type": "execute_result"
    }
   ],
   "source": [
    "data_dict"
   ]
  },
  {
   "cell_type": "code",
   "execution_count": 38,
   "id": "0aa04ee3",
   "metadata": {},
   "outputs": [
    {
     "data": {
      "text/plain": [
       "Text(0, 0.5, 'Department ID')"
      ]
     },
     "execution_count": 38,
     "metadata": {},
     "output_type": "execute_result"
    },
    {
     "data": {
      "image/png": "[encoded data removed]",
      "text/plain": [
       "<Figure size 640x480 with 1 Axes>"
      ]
     },
     "metadata": {},
     "output_type": "display_data"
    }
   ],
   "source": [
    "# See which departments sell the most products\n",
    "\n",
    "ax = df['Department_ID'].value_counts().sort_index().plot(kind='barh', title='Sales by Product Types')\n",
    "\n",
    "ax.set_xlabel('Number of Orders')\n",
    "ax.set_ylabel('Department ID')"
   ]
  },
  {
   "cell_type": "code",
   "execution_count": 39,
   "id": "c0c3d13b",
   "metadata": {
    "scrolled": true
   },
   "outputs": [
    {
     "data": {
      "text/plain": [
       "Index(['Order_ID', 'User_ID', 'Order_Number', 'Orders_day_of_the_week',\n",
       "       'Order_hour_of_day', 'Days_Since_Prior_Order', 'Product_ID',\n",
       "       'Add_To_Cart_Order', 'Reordered', 'Product_Name', 'Aisle_ID',\n",
       "       'Department_ID', 'Prices', 'Rrice_Range_Loc', 'Busiest_Day',\n",
       "       'Busiest_Days', 'Busiest_Period_of_Day', 'Max_Order', 'Loyalty_Flag',\n",
       "       'Mean_Prices', 'Spending_Flag', 'Median_Days', 'Frequency_Flag',\n",
       "       'Gender', 'State', 'Age', 'Date_Joined', 'Dependents', 'Family_Status',\n",
       "       'Income', 'Region', 'Low_Activity', 'Age_Group', 'Income_Bracket',\n",
       "       'Household_Size'],\n",
       "      dtype='object')"
      ]
     },
     "execution_count": 39,
     "metadata": {},
     "output_type": "execute_result"
    }
   ],
   "source": [
    "df_pets = df.loc[df['Department_ID']==8]\n",
    "df_pets.columns"
   ]
  },
  {
   "cell_type": "code",
   "execution_count": 40,
   "id": "965dc39d",
   "metadata": {
    "scrolled": true
   },
   "outputs": [
    {
     "data": {
      "text/plain": [
       "Text(0, 0.5, 'Number of Orders')"
      ]
     },
     "execution_count": 40,
     "metadata": {},
     "output_type": "execute_result"
    },
    {
     "data": {
      "image/png": "[encoded data removed]",
      "text/plain": [
       "<Figure size 640x480 with 1 Axes>"
      ]
     },
     "metadata": {},
     "output_type": "display_data"
    }
   ],
   "source": [
    "# Create a bar chart of 'pets' purchases per Age Group\n",
    "\n",
    "ax = df_pets['Age_Group'].value_counts().sort_index().plot(kind='barh', title='Pet Product Purchases per Age Group')\n",
    "\n",
    "ax.set_xlabel('Age Group')\n",
    "ax.set_ylabel('Number of Orders')"
   ]
  },
  {
   "cell_type": "code",
   "execution_count": 41,
   "id": "7bf6fb93",
   "metadata": {
    "scrolled": true
   },
   "outputs": [
    {
     "data": {
      "text/plain": [
       "Text(0, 0.5, 'Number of Orders')"
      ]
     },
     "execution_count": 41,
     "metadata": {},
     "output_type": "execute_result"
    },
    {
     "data": {
      "image/png": "[encoded data removed]",
      "text/plain": [
       "<Figure size 640x480 with 1 Axes>"
      ]
     },
     "metadata": {},
     "output_type": "display_data"
    }
   ],
   "source": [
    "# Create a bar chart of 'pets' purchases per Household Size\n",
    "\n",
    "ax = df_pets['Household_Size'].value_counts().sort_index().plot(kind='barh', title='Pet Product Purchases per Household Size')\n",
    "\n",
    "ax.set_xlabel('Household Size')\n",
    "ax.set_ylabel('Number of Orders')"
   ]
  },
  {
   "cell_type": "code",
   "execution_count": 42,
   "id": "dfb3fcf4",
   "metadata": {
    "scrolled": true
   },
   "outputs": [
    {
     "data": {
      "text/plain": [
       "Text(0, 0.5, 'Number of Orders')"
      ]
     },
     "execution_count": 42,
     "metadata": {},
     "output_type": "execute_result"
    },
    {
     "data": {
      "image/png": "[encoded data removed]",
      "text/plain": [
       "<Figure size 640x480 with 1 Axes>"
      ]
     },
     "metadata": {},
     "output_type": "display_data"
    }
   ],
   "source": [
    "# Create a bar chart of 'pets' purchases per Income Bracket\n",
    "\n",
    "ax = df_pets['Income_Bracket'].value_counts().sort_index().plot(kind='barh', title='Pet Product Purchases per Income')\n",
    "\n",
    "ax.set_xlabel('Income Bracket')\n",
    "ax.set_ylabel('Number of Orders')"
   ]
  },
  {
   "cell_type": "code",
   "execution_count": 43,
   "id": "76efbae9",
   "metadata": {
    "scrolled": true
   },
   "outputs": [
    {
     "data": {
      "text/html": [
       "<div>\n",
       "<style scoped>\n",
       "    .dataframe tbody tr th:only-of-type {\n",
       "        vertical-align: middle;\n",
       "    }\n",
       "\n",
       "    .dataframe tbody tr th {\n",
       "        vertical-align: top;\n",
       "    }\n",
       "\n",
       "    .dataframe thead th {\n",
       "        text-align: right;\n",
       "    }\n",
       "</style>\n",
       "<table border=\"1\" class=\"dataframe\">\n",
       "  <thead>\n",
       "    <tr style=\"text-align: right;\">\n",
       "      <th></th>\n",
       "      <th>Order_ID</th>\n",
       "      <th>User_ID</th>\n",
       "      <th>Order_Number</th>\n",
       "      <th>Orders_day_of_the_week</th>\n",
       "      <th>Order_hour_of_day</th>\n",
       "      <th>Days_Since_Prior_Order</th>\n",
       "      <th>Product_ID</th>\n",
       "      <th>Add_To_Cart_Order</th>\n",
       "      <th>Reordered</th>\n",
       "      <th>Product_Name</th>\n",
       "      <th>Aisle_ID</th>\n",
       "      <th>Department_ID</th>\n",
       "      <th>Prices</th>\n",
       "      <th>Rrice_Range_Loc</th>\n",
       "      <th>Busiest_Day</th>\n",
       "      <th>Busiest_Days</th>\n",
       "      <th>Busiest_Period_of_Day</th>\n",
       "      <th>Max_Order</th>\n",
       "      <th>Loyalty_Flag</th>\n",
       "      <th>Mean_Prices</th>\n",
       "      <th>Spending_Flag</th>\n",
       "      <th>Median_Days</th>\n",
       "      <th>Frequency_Flag</th>\n",
       "      <th>Gender</th>\n",
       "      <th>State</th>\n",
       "      <th>Age</th>\n",
       "      <th>Date_Joined</th>\n",
       "      <th>Dependents</th>\n",
       "      <th>Family_Status</th>\n",
       "      <th>Income</th>\n",
       "      <th>Region</th>\n",
       "      <th>Low_Activity</th>\n",
       "      <th>Age_Group</th>\n",
       "      <th>Income_Bracket</th>\n",
       "      <th>Household_Size</th>\n",
       "    </tr>\n",
       "  </thead>\n",
       "  <tbody>\n",
       "    <tr>\n",
       "      <th>1508</th>\n",
       "      <td>1382150</td>\n",
       "      <td>109</td>\n",
       "      <td>6</td>\n",
       "      <td>1</td>\n",
       "      <td>9</td>\n",
       "      <td>15.0</td>\n",
       "      <td>3858</td>\n",
       "      <td>5</td>\n",
       "      <td>0</td>\n",
       "      <td>2nd Foods Chicken &amp; Gravy</td>\n",
       "      <td>92</td>\n",
       "      <td>18</td>\n",
       "      <td>2.3</td>\n",
       "      <td>Low-range product</td>\n",
       "      <td>Regularly busy</td>\n",
       "      <td>Busiest days</td>\n",
       "      <td>Average orders</td>\n",
       "      <td>6</td>\n",
       "      <td>New customer</td>\n",
       "      <td>5.850725</td>\n",
       "      <td>Low spender</td>\n",
       "      <td>26.0</td>\n",
       "      <td>Non-frequent customer</td>\n",
       "      <td>Female</td>\n",
       "      <td>Connecticut</td>\n",
       "      <td>67</td>\n",
       "      <td>2018-07-29</td>\n",
       "      <td>1</td>\n",
       "      <td>married</td>\n",
       "      <td>41805</td>\n",
       "      <td>Northeast</td>\n",
       "      <td>No</td>\n",
       "      <td>Senior</td>\n",
       "      <td>Low Income</td>\n",
       "      <td>Medium</td>\n",
       "    </tr>\n",
       "    <tr>\n",
       "      <th>2893</th>\n",
       "      <td>2684151</td>\n",
       "      <td>290</td>\n",
       "      <td>22</td>\n",
       "      <td>6</td>\n",
       "      <td>10</td>\n",
       "      <td>7.0</td>\n",
       "      <td>45309</td>\n",
       "      <td>32</td>\n",
       "      <td>0</td>\n",
       "      <td>Purple Carrot &amp; blueberry Puffs</td>\n",
       "      <td>92</td>\n",
       "      <td>18</td>\n",
       "      <td>11.4</td>\n",
       "      <td>Mid-range product</td>\n",
       "      <td>Regularly busy</td>\n",
       "      <td>Regularly busy</td>\n",
       "      <td>Most orders</td>\n",
       "      <td>51</td>\n",
       "      <td>Loyal customer</td>\n",
       "      <td>7.285597</td>\n",
       "      <td>Low spender</td>\n",
       "      <td>7.0</td>\n",
       "      <td>Frequent customer</td>\n",
       "      <td>Female</td>\n",
       "      <td>Michigan</td>\n",
       "      <td>24</td>\n",
       "      <td>2019-05-18</td>\n",
       "      <td>1</td>\n",
       "      <td>married</td>\n",
       "      <td>55550</td>\n",
       "      <td>Midwest</td>\n",
       "      <td>No</td>\n",
       "      <td>Young Adult</td>\n",
       "      <td>Middle Income</td>\n",
       "      <td>Medium</td>\n",
       "    </tr>\n",
       "    <tr>\n",
       "      <th>3508</th>\n",
       "      <td>2684151</td>\n",
       "      <td>290</td>\n",
       "      <td>22</td>\n",
       "      <td>6</td>\n",
       "      <td>10</td>\n",
       "      <td>7.0</td>\n",
       "      <td>15076</td>\n",
       "      <td>33</td>\n",
       "      <td>0</td>\n",
       "      <td>Graduates Fruit Pick-Ups Diced Apples</td>\n",
       "      <td>92</td>\n",
       "      <td>18</td>\n",
       "      <td>5.8</td>\n",
       "      <td>Mid-range product</td>\n",
       "      <td>Regularly busy</td>\n",
       "      <td>Regularly busy</td>\n",
       "      <td>Most orders</td>\n",
       "      <td>51</td>\n",
       "      <td>Loyal customer</td>\n",
       "      <td>7.285597</td>\n",
       "      <td>Low spender</td>\n",
       "      <td>7.0</td>\n",
       "      <td>Frequent customer</td>\n",
       "      <td>Female</td>\n",
       "      <td>Michigan</td>\n",
       "      <td>24</td>\n",
       "      <td>2019-05-18</td>\n",
       "      <td>1</td>\n",
       "      <td>married</td>\n",
       "      <td>55550</td>\n",
       "      <td>Midwest</td>\n",
       "      <td>No</td>\n",
       "      <td>Young Adult</td>\n",
       "      <td>Middle Income</td>\n",
       "      <td>Medium</td>\n",
       "    </tr>\n",
       "    <tr>\n",
       "      <th>3982</th>\n",
       "      <td>2332460</td>\n",
       "      <td>420</td>\n",
       "      <td>21</td>\n",
       "      <td>5</td>\n",
       "      <td>17</td>\n",
       "      <td>11.0</td>\n",
       "      <td>14408</td>\n",
       "      <td>1</td>\n",
       "      <td>0</td>\n",
       "      <td>Unflavored Oral Electrolyte Solution</td>\n",
       "      <td>92</td>\n",
       "      <td>18</td>\n",
       "      <td>2.0</td>\n",
       "      <td>Low-range product</td>\n",
       "      <td>Regularly busy</td>\n",
       "      <td>Regularly busy</td>\n",
       "      <td>Average orders</td>\n",
       "      <td>22</td>\n",
       "      <td>Regular customer</td>\n",
       "      <td>7.387805</td>\n",
       "      <td>Low spender</td>\n",
       "      <td>7.0</td>\n",
       "      <td>Frequent customer</td>\n",
       "      <td>Female</td>\n",
       "      <td>Hawaii</td>\n",
       "      <td>26</td>\n",
       "      <td>2018-10-17</td>\n",
       "      <td>2</td>\n",
       "      <td>married</td>\n",
       "      <td>97248</td>\n",
       "      <td>West</td>\n",
       "      <td>No</td>\n",
       "      <td>Young Adult</td>\n",
       "      <td>Middle Income</td>\n",
       "      <td>Medium</td>\n",
       "    </tr>\n",
       "    <tr>\n",
       "      <th>4030</th>\n",
       "      <td>58188</td>\n",
       "      <td>420</td>\n",
       "      <td>3</td>\n",
       "      <td>6</td>\n",
       "      <td>13</td>\n",
       "      <td>23.0</td>\n",
       "      <td>30161</td>\n",
       "      <td>7</td>\n",
       "      <td>0</td>\n",
       "      <td>Face, Hand &amp; Baby Wipes Fragrance Free</td>\n",
       "      <td>56</td>\n",
       "      <td>18</td>\n",
       "      <td>5.7</td>\n",
       "      <td>Mid-range product</td>\n",
       "      <td>Regularly busy</td>\n",
       "      <td>Regularly busy</td>\n",
       "      <td>Most orders</td>\n",
       "      <td>22</td>\n",
       "      <td>Regular customer</td>\n",
       "      <td>7.387805</td>\n",
       "      <td>Low spender</td>\n",
       "      <td>7.0</td>\n",
       "      <td>Frequent customer</td>\n",
       "      <td>Female</td>\n",
       "      <td>Hawaii</td>\n",
       "      <td>26</td>\n",
       "      <td>2018-10-17</td>\n",
       "      <td>2</td>\n",
       "      <td>married</td>\n",
       "      <td>97248</td>\n",
       "      <td>West</td>\n",
       "      <td>No</td>\n",
       "      <td>Young Adult</td>\n",
       "      <td>Middle Income</td>\n",
       "      <td>Medium</td>\n",
       "    </tr>\n",
       "    <tr>\n",
       "      <th>...</th>\n",
       "      <td>...</td>\n",
       "      <td>...</td>\n",
       "      <td>...</td>\n",
       "      <td>...</td>\n",
       "      <td>...</td>\n",
       "      <td>...</td>\n",
       "      <td>...</td>\n",
       "      <td>...</td>\n",
       "      <td>...</td>\n",
       "      <td>...</td>\n",
       "      <td>...</td>\n",
       "      <td>...</td>\n",
       "      <td>...</td>\n",
       "      <td>...</td>\n",
       "      <td>...</td>\n",
       "      <td>...</td>\n",
       "      <td>...</td>\n",
       "      <td>...</td>\n",
       "      <td>...</td>\n",
       "      <td>...</td>\n",
       "      <td>...</td>\n",
       "      <td>...</td>\n",
       "      <td>...</td>\n",
       "      <td>...</td>\n",
       "      <td>...</td>\n",
       "      <td>...</td>\n",
       "      <td>...</td>\n",
       "      <td>...</td>\n",
       "      <td>...</td>\n",
       "      <td>...</td>\n",
       "      <td>...</td>\n",
       "      <td>...</td>\n",
       "      <td>...</td>\n",
       "      <td>...</td>\n",
       "      <td>...</td>\n",
       "    </tr>\n",
       "    <tr>\n",
       "      <th>32404168</th>\n",
       "      <td>1903809</td>\n",
       "      <td>194803</td>\n",
       "      <td>5</td>\n",
       "      <td>4</td>\n",
       "      <td>17</td>\n",
       "      <td>23.0</td>\n",
       "      <td>879</td>\n",
       "      <td>1</td>\n",
       "      <td>1</td>\n",
       "      <td>Baby Dry Diapers Size 4</td>\n",
       "      <td>56</td>\n",
       "      <td>18</td>\n",
       "      <td>10.3</td>\n",
       "      <td>Mid-range product</td>\n",
       "      <td>Least busy</td>\n",
       "      <td>Least busy days</td>\n",
       "      <td>Average orders</td>\n",
       "      <td>7</td>\n",
       "      <td>New customer</td>\n",
       "      <td>8.311111</td>\n",
       "      <td>Low spender</td>\n",
       "      <td>30.0</td>\n",
       "      <td>Non-frequent customer</td>\n",
       "      <td>Male</td>\n",
       "      <td>Massachusetts</td>\n",
       "      <td>63</td>\n",
       "      <td>2018-06-23</td>\n",
       "      <td>0</td>\n",
       "      <td>divorced/widowed</td>\n",
       "      <td>125997</td>\n",
       "      <td>Northeast</td>\n",
       "      <td>No</td>\n",
       "      <td>Middle-Aged</td>\n",
       "      <td>Upper-Middle Income</td>\n",
       "      <td>Small</td>\n",
       "    </tr>\n",
       "    <tr>\n",
       "      <th>32404169</th>\n",
       "      <td>1058638</td>\n",
       "      <td>194803</td>\n",
       "      <td>6</td>\n",
       "      <td>2</td>\n",
       "      <td>7</td>\n",
       "      <td>30.0</td>\n",
       "      <td>879</td>\n",
       "      <td>1</td>\n",
       "      <td>1</td>\n",
       "      <td>Baby Dry Diapers Size 4</td>\n",
       "      <td>56</td>\n",
       "      <td>18</td>\n",
       "      <td>10.3</td>\n",
       "      <td>Mid-range product</td>\n",
       "      <td>Regularly busy</td>\n",
       "      <td>Regularly busy</td>\n",
       "      <td>Average orders</td>\n",
       "      <td>7</td>\n",
       "      <td>New customer</td>\n",
       "      <td>8.311111</td>\n",
       "      <td>Low spender</td>\n",
       "      <td>30.0</td>\n",
       "      <td>Non-frequent customer</td>\n",
       "      <td>Male</td>\n",
       "      <td>Massachusetts</td>\n",
       "      <td>63</td>\n",
       "      <td>2018-06-23</td>\n",
       "      <td>0</td>\n",
       "      <td>divorced/widowed</td>\n",
       "      <td>125997</td>\n",
       "      <td>Northeast</td>\n",
       "      <td>No</td>\n",
       "      <td>Middle-Aged</td>\n",
       "      <td>Upper-Middle Income</td>\n",
       "      <td>Small</td>\n",
       "    </tr>\n",
       "    <tr>\n",
       "      <th>32404762</th>\n",
       "      <td>193552</td>\n",
       "      <td>21688</td>\n",
       "      <td>1</td>\n",
       "      <td>2</td>\n",
       "      <td>10</td>\n",
       "      <td>NaN</td>\n",
       "      <td>2633</td>\n",
       "      <td>1</td>\n",
       "      <td>0</td>\n",
       "      <td>Advance Powder Infant Formula</td>\n",
       "      <td>92</td>\n",
       "      <td>18</td>\n",
       "      <td>14.0</td>\n",
       "      <td>Mid-range product</td>\n",
       "      <td>Regularly busy</td>\n",
       "      <td>Regularly busy</td>\n",
       "      <td>Most orders</td>\n",
       "      <td>5</td>\n",
       "      <td>New customer</td>\n",
       "      <td>14.050000</td>\n",
       "      <td>High spender</td>\n",
       "      <td>21.0</td>\n",
       "      <td>Non-frequent customer</td>\n",
       "      <td>Male</td>\n",
       "      <td>Idaho</td>\n",
       "      <td>33</td>\n",
       "      <td>2019-01-14</td>\n",
       "      <td>1</td>\n",
       "      <td>married</td>\n",
       "      <td>98838</td>\n",
       "      <td>West</td>\n",
       "      <td>No</td>\n",
       "      <td>Young Adult</td>\n",
       "      <td>Middle Income</td>\n",
       "      <td>Medium</td>\n",
       "    </tr>\n",
       "    <tr>\n",
       "      <th>32404763</th>\n",
       "      <td>2083473</td>\n",
       "      <td>21688</td>\n",
       "      <td>3</td>\n",
       "      <td>6</td>\n",
       "      <td>21</td>\n",
       "      <td>21.0</td>\n",
       "      <td>2633</td>\n",
       "      <td>1</td>\n",
       "      <td>1</td>\n",
       "      <td>Advance Powder Infant Formula</td>\n",
       "      <td>92</td>\n",
       "      <td>18</td>\n",
       "      <td>14.0</td>\n",
       "      <td>Mid-range product</td>\n",
       "      <td>Regularly busy</td>\n",
       "      <td>Regularly busy</td>\n",
       "      <td>Average orders</td>\n",
       "      <td>5</td>\n",
       "      <td>New customer</td>\n",
       "      <td>14.050000</td>\n",
       "      <td>High spender</td>\n",
       "      <td>21.0</td>\n",
       "      <td>Non-frequent customer</td>\n",
       "      <td>Male</td>\n",
       "      <td>Idaho</td>\n",
       "      <td>33</td>\n",
       "      <td>2019-01-14</td>\n",
       "      <td>1</td>\n",
       "      <td>married</td>\n",
       "      <td>98838</td>\n",
       "      <td>West</td>\n",
       "      <td>No</td>\n",
       "      <td>Young Adult</td>\n",
       "      <td>Middle Income</td>\n",
       "      <td>Medium</td>\n",
       "    </tr>\n",
       "    <tr>\n",
       "      <th>32404764</th>\n",
       "      <td>1660083</td>\n",
       "      <td>21688</td>\n",
       "      <td>4</td>\n",
       "      <td>0</td>\n",
       "      <td>11</td>\n",
       "      <td>8.0</td>\n",
       "      <td>2633</td>\n",
       "      <td>1</td>\n",
       "      <td>1</td>\n",
       "      <td>Advance Powder Infant Formula</td>\n",
       "      <td>92</td>\n",
       "      <td>18</td>\n",
       "      <td>14.0</td>\n",
       "      <td>Mid-range product</td>\n",
       "      <td>Busiest day</td>\n",
       "      <td>Busiest days</td>\n",
       "      <td>Most orders</td>\n",
       "      <td>5</td>\n",
       "      <td>New customer</td>\n",
       "      <td>14.050000</td>\n",
       "      <td>High spender</td>\n",
       "      <td>21.0</td>\n",
       "      <td>Non-frequent customer</td>\n",
       "      <td>Male</td>\n",
       "      <td>Idaho</td>\n",
       "      <td>33</td>\n",
       "      <td>2019-01-14</td>\n",
       "      <td>1</td>\n",
       "      <td>married</td>\n",
       "      <td>98838</td>\n",
       "      <td>West</td>\n",
       "      <td>No</td>\n",
       "      <td>Young Adult</td>\n",
       "      <td>Middle Income</td>\n",
       "      <td>Medium</td>\n",
       "    </tr>\n",
       "  </tbody>\n",
       "</table>\n",
       "<p>410392 rows × 35 columns</p>\n",
       "</div>"
      ],
      "text/plain": [
       "          Order_ID  User_ID  Order_Number  Orders_day_of_the_week  \\\n",
       "1508       1382150      109             6                       1   \n",
       "2893       2684151      290            22                       6   \n",
       "3508       2684151      290            22                       6   \n",
       "3982       2332460      420            21                       5   \n",
       "4030         58188      420             3                       6   \n",
       "...            ...      ...           ...                     ...   \n",
       "32404168   1903809   194803             5                       4   \n",
       "32404169   1058638   194803             6                       2   \n",
       "32404762    193552    21688             1                       2   \n",
       "32404763   2083473    21688             3                       6   \n",
       "32404764   1660083    21688             4                       0   \n",
       "\n",
       "          Order_hour_of_day  Days_Since_Prior_Order  Product_ID  \\\n",
       "1508                      9                    15.0        3858   \n",
       "2893                     10                     7.0       45309   \n",
       "3508                     10                     7.0       15076   \n",
       "3982                     17                    11.0       14408   \n",
       "4030                     13                    23.0       30161   \n",
       "...                     ...                     ...         ...   \n",
       "32404168                 17                    23.0         879   \n",
       "32404169                  7                    30.0         879   \n",
       "32404762                 10                     NaN        2633   \n",
       "32404763                 21                    21.0        2633   \n",
       "32404764                 11                     8.0        2633   \n",
       "\n",
       "          Add_To_Cart_Order  Reordered  \\\n",
       "1508                      5          0   \n",
       "2893                     32          0   \n",
       "3508                     33          0   \n",
       "3982                      1          0   \n",
       "4030                      7          0   \n",
       "...                     ...        ...   \n",
       "32404168                  1          1   \n",
       "32404169                  1          1   \n",
       "32404762                  1          0   \n",
       "32404763                  1          1   \n",
       "32404764                  1          1   \n",
       "\n",
       "                                    Product_Name  Aisle_ID  Department_ID  \\\n",
       "1508                   2nd Foods Chicken & Gravy        92             18   \n",
       "2893             Purple Carrot & blueberry Puffs        92             18   \n",
       "3508       Graduates Fruit Pick-Ups Diced Apples        92             18   \n",
       "3982        Unflavored Oral Electrolyte Solution        92             18   \n",
       "4030      Face, Hand & Baby Wipes Fragrance Free        56             18   \n",
       "...                                          ...       ...            ...   \n",
       "32404168                 Baby Dry Diapers Size 4        56             18   \n",
       "32404169                 Baby Dry Diapers Size 4        56             18   \n",
       "32404762           Advance Powder Infant Formula        92             18   \n",
       "32404763           Advance Powder Infant Formula        92             18   \n",
       "32404764           Advance Powder Infant Formula        92             18   \n",
       "\n",
       "          Prices    Rrice_Range_Loc     Busiest_Day     Busiest_Days  \\\n",
       "1508         2.3  Low-range product  Regularly busy     Busiest days   \n",
       "2893        11.4  Mid-range product  Regularly busy   Regularly busy   \n",
       "3508         5.8  Mid-range product  Regularly busy   Regularly busy   \n",
       "3982         2.0  Low-range product  Regularly busy   Regularly busy   \n",
       "4030         5.7  Mid-range product  Regularly busy   Regularly busy   \n",
       "...          ...                ...             ...              ...   \n",
       "32404168    10.3  Mid-range product      Least busy  Least busy days   \n",
       "32404169    10.3  Mid-range product  Regularly busy   Regularly busy   \n",
       "32404762    14.0  Mid-range product  Regularly busy   Regularly busy   \n",
       "32404763    14.0  Mid-range product  Regularly busy   Regularly busy   \n",
       "32404764    14.0  Mid-range product     Busiest day     Busiest days   \n",
       "\n",
       "         Busiest_Period_of_Day  Max_Order      Loyalty_Flag  Mean_Prices  \\\n",
       "1508            Average orders          6      New customer     5.850725   \n",
       "2893               Most orders         51    Loyal customer     7.285597   \n",
       "3508               Most orders         51    Loyal customer     7.285597   \n",
       "3982            Average orders         22  Regular customer     7.387805   \n",
       "4030               Most orders         22  Regular customer     7.387805   \n",
       "...                        ...        ...               ...          ...   \n",
       "32404168        Average orders          7      New customer     8.311111   \n",
       "32404169        Average orders          7      New customer     8.311111   \n",
       "32404762           Most orders          5      New customer    14.050000   \n",
       "32404763        Average orders          5      New customer    14.050000   \n",
       "32404764           Most orders          5      New customer    14.050000   \n",
       "\n",
       "         Spending_Flag  Median_Days         Frequency_Flag  Gender  \\\n",
       "1508       Low spender         26.0  Non-frequent customer  Female   \n",
       "2893       Low spender          7.0      Frequent customer  Female   \n",
       "3508       Low spender          7.0      Frequent customer  Female   \n",
       "3982       Low spender          7.0      Frequent customer  Female   \n",
       "4030       Low spender          7.0      Frequent customer  Female   \n",
       "...                ...          ...                    ...     ...   \n",
       "32404168   Low spender         30.0  Non-frequent customer    Male   \n",
       "32404169   Low spender         30.0  Non-frequent customer    Male   \n",
       "32404762  High spender         21.0  Non-frequent customer    Male   \n",
       "32404763  High spender         21.0  Non-frequent customer    Male   \n",
       "32404764  High spender         21.0  Non-frequent customer    Male   \n",
       "\n",
       "                  State  Age Date_Joined  Dependents     Family_Status  \\\n",
       "1508        Connecticut   67  2018-07-29           1           married   \n",
       "2893           Michigan   24  2019-05-18           1           married   \n",
       "3508           Michigan   24  2019-05-18           1           married   \n",
       "3982             Hawaii   26  2018-10-17           2           married   \n",
       "4030             Hawaii   26  2018-10-17           2           married   \n",
       "...                 ...  ...         ...         ...               ...   \n",
       "32404168  Massachusetts   63  2018-06-23           0  divorced/widowed   \n",
       "32404169  Massachusetts   63  2018-06-23           0  divorced/widowed   \n",
       "32404762          Idaho   33  2019-01-14           1           married   \n",
       "32404763          Idaho   33  2019-01-14           1           married   \n",
       "32404764          Idaho   33  2019-01-14           1           married   \n",
       "\n",
       "          Income     Region Low_Activity    Age_Group       Income_Bracket  \\\n",
       "1508       41805  Northeast           No       Senior           Low Income   \n",
       "2893       55550    Midwest           No  Young Adult        Middle Income   \n",
       "3508       55550    Midwest           No  Young Adult        Middle Income   \n",
       "3982       97248       West           No  Young Adult        Middle Income   \n",
       "4030       97248       West           No  Young Adult        Middle Income   \n",
       "...          ...        ...          ...          ...                  ...   \n",
       "32404168  125997  Northeast           No  Middle-Aged  Upper-Middle Income   \n",
       "32404169  125997  Northeast           No  Middle-Aged  Upper-Middle Income   \n",
       "32404762   98838       West           No  Young Adult        Middle Income   \n",
       "32404763   98838       West           No  Young Adult        Middle Income   \n",
       "32404764   98838       West           No  Young Adult        Middle Income   \n",
       "\n",
       "         Household_Size  \n",
       "1508             Medium  \n",
       "2893             Medium  \n",
       "3508             Medium  \n",
       "3982             Medium  \n",
       "4030             Medium  \n",
       "...                 ...  \n",
       "32404168          Small  \n",
       "32404169          Small  \n",
       "32404762         Medium  \n",
       "32404763         Medium  \n",
       "32404764         Medium  \n",
       "\n",
       "[410392 rows x 35 columns]"
      ]
     },
     "execution_count": 43,
     "metadata": {},
     "output_type": "execute_result"
    }
   ],
   "source": [
    "# Create a subset for 'Babies' products\n",
    "\n",
    "df_babies = df.loc[df['Department_ID']==18]\n",
    "df_babies"
   ]
  },
  {
   "cell_type": "markdown",
   "id": "3076d755",
   "metadata": {},
   "source": [
    "### Merge the departments dataframe into the main orders_productis_customers dataframe\n",
    "Get the department name in the same dataframe as department ID for ease of analysis"
   ]
  },
  {
   "cell_type": "code",
   "execution_count": 44,
   "id": "51ff6304",
   "metadata": {},
   "outputs": [],
   "source": [
    "# Merge the Departments dataframe to the main dataframe to get the department names\n",
    "\n",
    "df_depts = pd.merge(df, depts, on = 'Department_ID', how = 'left')\n",
    "df_depts['Dept_Name'] = df_depts['Department']"
   ]
  },
  {
   "cell_type": "code",
   "execution_count": 45,
   "id": "6cfc2d19",
   "metadata": {},
   "outputs": [],
   "source": [
    "df_depts.drop('Dept_Name', axis=1, inplace=True)"
   ]
  },
  {
   "cell_type": "code",
   "execution_count": 46,
   "id": "3b6eac5e",
   "metadata": {},
   "outputs": [],
   "source": [
    "df_depts = df_depts[['Order_ID', 'User_ID', 'Order_Number', 'Orders_day_of_the_week',\n",
    "       'Order_hour_of_day', 'Days_Since_Prior_Order', 'Product_ID',\n",
    "       'Add_To_Cart_Order', 'Reordered', 'Product_Name', 'Aisle_ID',\n",
    "       'Department_ID', 'Department', 'Prices', 'Rrice_Range_Loc', 'Busiest_Day',\n",
    "       'Busiest_Days', 'Busiest_Period_of_Day', 'Max_Order', 'Loyalty_Flag',\n",
    "       'Mean_Prices', 'Spending_Flag', 'Median_Days', 'Frequency_Flag',\n",
    "       'Gender', 'State', 'Age', 'Date_Joined', 'Dependents', 'Family_Status',\n",
    "       'Income', 'Region', 'Low_Activity', 'Age_Group', 'Income_Bracket',\n",
    "       'Household_Size']]"
   ]
  },
  {
   "cell_type": "code",
   "execution_count": 47,
   "id": "573e1d80",
   "metadata": {
    "scrolled": false
   },
   "outputs": [
    {
     "data": {
      "text/html": [
       "<div>\n",
       "<style scoped>\n",
       "    .dataframe tbody tr th:only-of-type {\n",
       "        vertical-align: middle;\n",
       "    }\n",
       "\n",
       "    .dataframe tbody tr th {\n",
       "        vertical-align: top;\n",
       "    }\n",
       "\n",
       "    .dataframe thead th {\n",
       "        text-align: right;\n",
       "    }\n",
       "</style>\n",
       "<table border=\"1\" class=\"dataframe\">\n",
       "  <thead>\n",
       "    <tr style=\"text-align: right;\">\n",
       "      <th></th>\n",
       "      <th>Order_ID</th>\n",
       "      <th>User_ID</th>\n",
       "      <th>Order_Number</th>\n",
       "      <th>Orders_day_of_the_week</th>\n",
       "      <th>Order_hour_of_day</th>\n",
       "      <th>Days_Since_Prior_Order</th>\n",
       "      <th>Product_ID</th>\n",
       "      <th>Add_To_Cart_Order</th>\n",
       "      <th>Reordered</th>\n",
       "      <th>Product_Name</th>\n",
       "      <th>Aisle_ID</th>\n",
       "      <th>Department_ID</th>\n",
       "      <th>Department</th>\n",
       "      <th>Prices</th>\n",
       "      <th>Rrice_Range_Loc</th>\n",
       "      <th>Busiest_Day</th>\n",
       "      <th>Busiest_Days</th>\n",
       "      <th>Busiest_Period_of_Day</th>\n",
       "      <th>Max_Order</th>\n",
       "      <th>Loyalty_Flag</th>\n",
       "      <th>Mean_Prices</th>\n",
       "      <th>Spending_Flag</th>\n",
       "      <th>Median_Days</th>\n",
       "      <th>Frequency_Flag</th>\n",
       "      <th>Gender</th>\n",
       "      <th>State</th>\n",
       "      <th>Age</th>\n",
       "      <th>Date_Joined</th>\n",
       "      <th>Dependents</th>\n",
       "      <th>Family_Status</th>\n",
       "      <th>Income</th>\n",
       "      <th>Region</th>\n",
       "      <th>Low_Activity</th>\n",
       "      <th>Age_Group</th>\n",
       "      <th>Income_Bracket</th>\n",
       "      <th>Household_Size</th>\n",
       "    </tr>\n",
       "  </thead>\n",
       "  <tbody>\n",
       "    <tr>\n",
       "      <th>0</th>\n",
       "      <td>2539329</td>\n",
       "      <td>1</td>\n",
       "      <td>1</td>\n",
       "      <td>2</td>\n",
       "      <td>8</td>\n",
       "      <td>NaN</td>\n",
       "      <td>196</td>\n",
       "      <td>1</td>\n",
       "      <td>0</td>\n",
       "      <td>Soda</td>\n",
       "      <td>77</td>\n",
       "      <td>7</td>\n",
       "      <td>beverages</td>\n",
       "      <td>9.0</td>\n",
       "      <td>Mid-range product</td>\n",
       "      <td>Regularly busy</td>\n",
       "      <td>Regularly busy</td>\n",
       "      <td>Average orders</td>\n",
       "      <td>10</td>\n",
       "      <td>New customer</td>\n",
       "      <td>6.367797</td>\n",
       "      <td>Low spender</td>\n",
       "      <td>20.5</td>\n",
       "      <td>Non-frequent customer</td>\n",
       "      <td>Female</td>\n",
       "      <td>Alabama</td>\n",
       "      <td>31</td>\n",
       "      <td>2019-02-17</td>\n",
       "      <td>3</td>\n",
       "      <td>married</td>\n",
       "      <td>40423</td>\n",
       "      <td>South</td>\n",
       "      <td>No</td>\n",
       "      <td>Young Adult</td>\n",
       "      <td>Low Income</td>\n",
       "      <td>Large</td>\n",
       "    </tr>\n",
       "    <tr>\n",
       "      <th>1</th>\n",
       "      <td>2398795</td>\n",
       "      <td>1</td>\n",
       "      <td>2</td>\n",
       "      <td>3</td>\n",
       "      <td>7</td>\n",
       "      <td>15.0</td>\n",
       "      <td>196</td>\n",
       "      <td>1</td>\n",
       "      <td>1</td>\n",
       "      <td>Soda</td>\n",
       "      <td>77</td>\n",
       "      <td>7</td>\n",
       "      <td>beverages</td>\n",
       "      <td>9.0</td>\n",
       "      <td>Mid-range product</td>\n",
       "      <td>Regularly busy</td>\n",
       "      <td>Least busy days</td>\n",
       "      <td>Average orders</td>\n",
       "      <td>10</td>\n",
       "      <td>New customer</td>\n",
       "      <td>6.367797</td>\n",
       "      <td>Low spender</td>\n",
       "      <td>20.5</td>\n",
       "      <td>Non-frequent customer</td>\n",
       "      <td>Female</td>\n",
       "      <td>Alabama</td>\n",
       "      <td>31</td>\n",
       "      <td>2019-02-17</td>\n",
       "      <td>3</td>\n",
       "      <td>married</td>\n",
       "      <td>40423</td>\n",
       "      <td>South</td>\n",
       "      <td>No</td>\n",
       "      <td>Young Adult</td>\n",
       "      <td>Low Income</td>\n",
       "      <td>Large</td>\n",
       "    </tr>\n",
       "    <tr>\n",
       "      <th>2</th>\n",
       "      <td>473747</td>\n",
       "      <td>1</td>\n",
       "      <td>3</td>\n",
       "      <td>3</td>\n",
       "      <td>12</td>\n",
       "      <td>21.0</td>\n",
       "      <td>196</td>\n",
       "      <td>1</td>\n",
       "      <td>1</td>\n",
       "      <td>Soda</td>\n",
       "      <td>77</td>\n",
       "      <td>7</td>\n",
       "      <td>beverages</td>\n",
       "      <td>9.0</td>\n",
       "      <td>Mid-range product</td>\n",
       "      <td>Regularly busy</td>\n",
       "      <td>Least busy days</td>\n",
       "      <td>Most orders</td>\n",
       "      <td>10</td>\n",
       "      <td>New customer</td>\n",
       "      <td>6.367797</td>\n",
       "      <td>Low spender</td>\n",
       "      <td>20.5</td>\n",
       "      <td>Non-frequent customer</td>\n",
       "      <td>Female</td>\n",
       "      <td>Alabama</td>\n",
       "      <td>31</td>\n",
       "      <td>2019-02-17</td>\n",
       "      <td>3</td>\n",
       "      <td>married</td>\n",
       "      <td>40423</td>\n",
       "      <td>South</td>\n",
       "      <td>No</td>\n",
       "      <td>Young Adult</td>\n",
       "      <td>Low Income</td>\n",
       "      <td>Large</td>\n",
       "    </tr>\n",
       "    <tr>\n",
       "      <th>3</th>\n",
       "      <td>2254736</td>\n",
       "      <td>1</td>\n",
       "      <td>4</td>\n",
       "      <td>4</td>\n",
       "      <td>7</td>\n",
       "      <td>29.0</td>\n",
       "      <td>196</td>\n",
       "      <td>1</td>\n",
       "      <td>1</td>\n",
       "      <td>Soda</td>\n",
       "      <td>77</td>\n",
       "      <td>7</td>\n",
       "      <td>beverages</td>\n",
       "      <td>9.0</td>\n",
       "      <td>Mid-range product</td>\n",
       "      <td>Least busy</td>\n",
       "      <td>Least busy days</td>\n",
       "      <td>Average orders</td>\n",
       "      <td>10</td>\n",
       "      <td>New customer</td>\n",
       "      <td>6.367797</td>\n",
       "      <td>Low spender</td>\n",
       "      <td>20.5</td>\n",
       "      <td>Non-frequent customer</td>\n",
       "      <td>Female</td>\n",
       "      <td>Alabama</td>\n",
       "      <td>31</td>\n",
       "      <td>2019-02-17</td>\n",
       "      <td>3</td>\n",
       "      <td>married</td>\n",
       "      <td>40423</td>\n",
       "      <td>South</td>\n",
       "      <td>No</td>\n",
       "      <td>Young Adult</td>\n",
       "      <td>Low Income</td>\n",
       "      <td>Large</td>\n",
       "    </tr>\n",
       "    <tr>\n",
       "      <th>4</th>\n",
       "      <td>431534</td>\n",
       "      <td>1</td>\n",
       "      <td>5</td>\n",
       "      <td>4</td>\n",
       "      <td>15</td>\n",
       "      <td>28.0</td>\n",
       "      <td>196</td>\n",
       "      <td>1</td>\n",
       "      <td>1</td>\n",
       "      <td>Soda</td>\n",
       "      <td>77</td>\n",
       "      <td>7</td>\n",
       "      <td>beverages</td>\n",
       "      <td>9.0</td>\n",
       "      <td>Mid-range product</td>\n",
       "      <td>Least busy</td>\n",
       "      <td>Least busy days</td>\n",
       "      <td>Most orders</td>\n",
       "      <td>10</td>\n",
       "      <td>New customer</td>\n",
       "      <td>6.367797</td>\n",
       "      <td>Low spender</td>\n",
       "      <td>20.5</td>\n",
       "      <td>Non-frequent customer</td>\n",
       "      <td>Female</td>\n",
       "      <td>Alabama</td>\n",
       "      <td>31</td>\n",
       "      <td>2019-02-17</td>\n",
       "      <td>3</td>\n",
       "      <td>married</td>\n",
       "      <td>40423</td>\n",
       "      <td>South</td>\n",
       "      <td>No</td>\n",
       "      <td>Young Adult</td>\n",
       "      <td>Low Income</td>\n",
       "      <td>Large</td>\n",
       "    </tr>\n",
       "  </tbody>\n",
       "</table>\n",
       "</div>"
      ],
      "text/plain": [
       "   Order_ID  User_ID  Order_Number  Orders_day_of_the_week  Order_hour_of_day  \\\n",
       "0   2539329        1             1                       2                  8   \n",
       "1   2398795        1             2                       3                  7   \n",
       "2    473747        1             3                       3                 12   \n",
       "3   2254736        1             4                       4                  7   \n",
       "4    431534        1             5                       4                 15   \n",
       "\n",
       "   Days_Since_Prior_Order  Product_ID  Add_To_Cart_Order  Reordered  \\\n",
       "0                     NaN         196                  1          0   \n",
       "1                    15.0         196                  1          1   \n",
       "2                    21.0         196                  1          1   \n",
       "3                    29.0         196                  1          1   \n",
       "4                    28.0         196                  1          1   \n",
       "\n",
       "  Product_Name  Aisle_ID  Department_ID Department  Prices    Rrice_Range_Loc  \\\n",
       "0         Soda        77              7  beverages     9.0  Mid-range product   \n",
       "1         Soda        77              7  beverages     9.0  Mid-range product   \n",
       "2         Soda        77              7  beverages     9.0  Mid-range product   \n",
       "3         Soda        77              7  beverages     9.0  Mid-range product   \n",
       "4         Soda        77              7  beverages     9.0  Mid-range product   \n",
       "\n",
       "      Busiest_Day     Busiest_Days Busiest_Period_of_Day  Max_Order  \\\n",
       "0  Regularly busy   Regularly busy        Average orders         10   \n",
       "1  Regularly busy  Least busy days        Average orders         10   \n",
       "2  Regularly busy  Least busy days           Most orders         10   \n",
       "3      Least busy  Least busy days        Average orders         10   \n",
       "4      Least busy  Least busy days           Most orders         10   \n",
       "\n",
       "   Loyalty_Flag  Mean_Prices Spending_Flag  Median_Days  \\\n",
       "0  New customer     6.367797   Low spender         20.5   \n",
       "1  New customer     6.367797   Low spender         20.5   \n",
       "2  New customer     6.367797   Low spender         20.5   \n",
       "3  New customer     6.367797   Low spender         20.5   \n",
       "4  New customer     6.367797   Low spender         20.5   \n",
       "\n",
       "          Frequency_Flag  Gender    State  Age Date_Joined  Dependents  \\\n",
       "0  Non-frequent customer  Female  Alabama   31  2019-02-17           3   \n",
       "1  Non-frequent customer  Female  Alabama   31  2019-02-17           3   \n",
       "2  Non-frequent customer  Female  Alabama   31  2019-02-17           3   \n",
       "3  Non-frequent customer  Female  Alabama   31  2019-02-17           3   \n",
       "4  Non-frequent customer  Female  Alabama   31  2019-02-17           3   \n",
       "\n",
       "  Family_Status  Income Region Low_Activity    Age_Group Income_Bracket  \\\n",
       "0       married   40423  South           No  Young Adult     Low Income   \n",
       "1       married   40423  South           No  Young Adult     Low Income   \n",
       "2       married   40423  South           No  Young Adult     Low Income   \n",
       "3       married   40423  South           No  Young Adult     Low Income   \n",
       "4       married   40423  South           No  Young Adult     Low Income   \n",
       "\n",
       "  Household_Size  \n",
       "0          Large  \n",
       "1          Large  \n",
       "2          Large  \n",
       "3          Large  \n",
       "4          Large  "
      ]
     },
     "execution_count": 47,
     "metadata": {},
     "output_type": "execute_result"
    }
   ],
   "source": [
    "df_depts.head()"
   ]
  },
  {
   "cell_type": "code",
   "execution_count": 48,
   "id": "25bfe460",
   "metadata": {},
   "outputs": [],
   "source": [
    "# Create a subset for 'breakfast' products\n",
    "\n",
    "df_breakfast = df_depts.loc[df_depts['Department']=='breakfast']"
   ]
  },
  {
   "cell_type": "code",
   "execution_count": 49,
   "id": "00b95528",
   "metadata": {
    "scrolled": true
   },
   "outputs": [
    {
     "data": {
      "text/plain": [
       "Text(0, 0.5, 'Number of Orders')"
      ]
     },
     "execution_count": 49,
     "metadata": {},
     "output_type": "execute_result"
    },
    {
     "data": {
      "image/png": "[encoded data removed]",
      "text/plain": [
       "<Figure size 640x480 with 1 Axes>"
      ]
     },
     "metadata": {},
     "output_type": "display_data"
    }
   ],
   "source": [
    "# Visualize 'breakfast' products purchases per 'hour of the day'\n",
    "\n",
    "ax = df_breakfast['Order_hour_of_day'].value_counts().sort_index().plot(kind='bar', title='Breakfast Products per Hour')\n",
    "\n",
    "ax.set_xlabel('Hour of the Day')\n",
    "ax.set_ylabel('Number of Orders')\n"
   ]
  },
  {
   "cell_type": "markdown",
   "id": "bdc51f80",
   "metadata": {},
   "source": [
    "## 5d) Customers purchasing 'Babies' products"
   ]
  },
  {
   "cell_type": "code",
   "execution_count": 50,
   "id": "0e3e912a",
   "metadata": {},
   "outputs": [],
   "source": [
    "# Create conditions for customers purchasing 'babies' products and customers not purchasing 'babies' products\n",
    "# Condition for purchasing 'Babies'\n",
    "df_depts.loc[df_depts['Department'] == 'babies', 'Baby'] = 'Yes'"
   ]
  },
  {
   "cell_type": "code",
   "execution_count": 51,
   "id": "b80f19e0",
   "metadata": {},
   "outputs": [],
   "source": [
    "# Create condition for not purchasing 'Babies' products\n",
    "df_depts.loc[df_depts['Department'] !='babies', 'Baby'] = 'No'"
   ]
  },
  {
   "cell_type": "code",
   "execution_count": 52,
   "id": "7efd25e7",
   "metadata": {
    "scrolled": false
   },
   "outputs": [
    {
     "data": {
      "text/plain": [
       "No     30554172\n",
       "Yes      410392\n",
       "Name: Baby, dtype: int64"
      ]
     },
     "execution_count": 52,
     "metadata": {},
     "output_type": "execute_result"
    }
   ],
   "source": [
    "# Check the frequency of customers purchasing for 'Babies'\n",
    "df_depts['Baby'].value_counts(dropna = False)"
   ]
  },
  {
   "cell_type": "markdown",
   "id": "bbc6ac5b",
   "metadata": {},
   "source": [
    "## 5e) Customers purchasing 'Pets' products"
   ]
  },
  {
   "cell_type": "code",
   "execution_count": 53,
   "id": "7a62a5bc",
   "metadata": {},
   "outputs": [],
   "source": [
    "# Create conditions for customers purchasing 'pets' products and customers not purchasing 'pets' products\n",
    "# Condition for purchasing 'Pets'\n",
    "df_depts.loc[df_depts['Department'] == 'pets', 'Pet'] = 'Yes'"
   ]
  },
  {
   "cell_type": "code",
   "execution_count": 54,
   "id": "93433939",
   "metadata": {},
   "outputs": [],
   "source": [
    "# Create condition for not purchasing 'Babies' products\n",
    "df_depts.loc[df_depts['Department'] != 'pets', 'Pet'] = 'No'"
   ]
  },
  {
   "cell_type": "code",
   "execution_count": 55,
   "id": "d3b5b3b5",
   "metadata": {},
   "outputs": [
    {
     "data": {
      "text/plain": [
       "No     30871504\n",
       "Yes       93060\n",
       "Name: Pet, dtype: int64"
      ]
     },
     "execution_count": 55,
     "metadata": {},
     "output_type": "execute_result"
    }
   ],
   "source": [
    "# Check the frequency of customers purchasing for 'Pets'\n",
    "df_depts['Pet'].value_counts(dropna = False)"
   ]
  },
  {
   "cell_type": "markdown",
   "id": "3e4f4da7",
   "metadata": {},
   "source": [
    "## 5f) Customers shopping on weekends vs weekdays"
   ]
  },
  {
   "cell_type": "code",
   "execution_count": 56,
   "id": "a29f9b2d",
   "metadata": {},
   "outputs": [],
   "source": [
    "# Day of the week: 0 = Saturday, 1 = Sunday; 2 = Monday, 3 = Tuesday, 4 = Wednesday, 5 = Thursday, 6 = 'Friday'\n",
    "# Create condition for ordering on weekdays AS 'Weekday' shopper\n",
    "\n",
    "df_depts.loc[df_depts['Orders_day_of_the_week'].isin([2,3,4,5,6]), 'Day_Shopper'] = 'Weekday'"
   ]
  },
  {
   "cell_type": "code",
   "execution_count": 57,
   "id": "dd8909e5",
   "metadata": {},
   "outputs": [],
   "source": [
    "# Create condition for ordering on weekdays AS 'Weekend' shopper\n",
    "\n",
    "df_depts.loc[df_depts['Orders_day_of_the_week'].isin([0,1]), 'Day_Shopper'] = 'Weekend'"
   ]
  },
  {
   "cell_type": "code",
   "execution_count": 58,
   "id": "b2135408",
   "metadata": {},
   "outputs": [
    {
     "data": {
      "text/plain": [
       "Weekday    19644268\n",
       "Weekend    11320296\n",
       "Name: Day_Shopper, dtype: int64"
      ]
     },
     "execution_count": 58,
     "metadata": {},
     "output_type": "execute_result"
    }
   ],
   "source": [
    "df_depts['Day_Shopper'].value_counts(dropna = False)"
   ]
  },
  {
   "cell_type": "markdown",
   "id": "db621de6",
   "metadata": {},
   "source": [
    "*But this is showing counts of orders for this flag and not grouped by customer. How do I see this at a customer level?*"
   ]
  },
  {
   "cell_type": "markdown",
   "id": "673abe49",
   "metadata": {},
   "source": [
    "# STEP 7\n",
    "#### Aggregate the max, mean, and min variables on a customer-profile level for usage frequency and expenditure.\n"
   ]
  },
  {
   "cell_type": "code",
   "execution_count": 59,
   "id": "7671da6d",
   "metadata": {},
   "outputs": [
    {
     "data": {
      "text/html": [
       "<div>\n",
       "<style scoped>\n",
       "    .dataframe tbody tr th:only-of-type {\n",
       "        vertical-align: middle;\n",
       "    }\n",
       "\n",
       "    .dataframe tbody tr th {\n",
       "        vertical-align: top;\n",
       "    }\n",
       "\n",
       "    .dataframe thead th {\n",
       "        text-align: right;\n",
       "    }\n",
       "</style>\n",
       "<table border=\"1\" class=\"dataframe\">\n",
       "  <thead>\n",
       "    <tr style=\"text-align: right;\">\n",
       "      <th></th>\n",
       "      <th>min</th>\n",
       "      <th>max</th>\n",
       "      <th>mean</th>\n",
       "      <th>median</th>\n",
       "    </tr>\n",
       "    <tr>\n",
       "      <th>Age_Group</th>\n",
       "      <th></th>\n",
       "      <th></th>\n",
       "      <th></th>\n",
       "      <th></th>\n",
       "    </tr>\n",
       "  </thead>\n",
       "  <tbody>\n",
       "    <tr>\n",
       "      <th>Middle-Aged</th>\n",
       "      <td>1</td>\n",
       "      <td>145</td>\n",
       "      <td>8.354216</td>\n",
       "      <td>6.0</td>\n",
       "    </tr>\n",
       "    <tr>\n",
       "      <th>Senior</th>\n",
       "      <td>1</td>\n",
       "      <td>99</td>\n",
       "      <td>8.307779</td>\n",
       "      <td>6.0</td>\n",
       "    </tr>\n",
       "    <tr>\n",
       "      <th>Young Adult</th>\n",
       "      <td>1</td>\n",
       "      <td>109</td>\n",
       "      <td>8.415515</td>\n",
       "      <td>6.0</td>\n",
       "    </tr>\n",
       "  </tbody>\n",
       "</table>\n",
       "</div>"
      ],
      "text/plain": [
       "             min  max      mean  median\n",
       "Age_Group                              \n",
       "Middle-Aged    1  145  8.354216     6.0\n",
       "Senior         1   99  8.307779     6.0\n",
       "Young Adult    1  109  8.415515     6.0"
      ]
     },
     "execution_count": 59,
     "metadata": {},
     "output_type": "execute_result"
    }
   ],
   "source": [
    "# min, max, mean, median usage frequency (Add_To_Cart_Order) by Age_Group\n",
    "\n",
    "df_depts.groupby('Age_Group')['Add_To_Cart_Order'].agg(['min', 'max', 'mean', 'median'])"
   ]
  },
  {
   "cell_type": "code",
   "execution_count": 60,
   "id": "463f1ce8",
   "metadata": {},
   "outputs": [
    {
     "data": {
      "text/html": [
       "<div>\n",
       "<style scoped>\n",
       "    .dataframe tbody tr th:only-of-type {\n",
       "        vertical-align: middle;\n",
       "    }\n",
       "\n",
       "    .dataframe tbody tr th {\n",
       "        vertical-align: top;\n",
       "    }\n",
       "\n",
       "    .dataframe thead th {\n",
       "        text-align: right;\n",
       "    }\n",
       "</style>\n",
       "<table border=\"1\" class=\"dataframe\">\n",
       "  <thead>\n",
       "    <tr style=\"text-align: right;\">\n",
       "      <th></th>\n",
       "      <th>min</th>\n",
       "      <th>max</th>\n",
       "      <th>mean</th>\n",
       "      <th>median</th>\n",
       "    </tr>\n",
       "    <tr>\n",
       "      <th>Income_Bracket</th>\n",
       "      <th></th>\n",
       "      <th></th>\n",
       "      <th></th>\n",
       "      <th></th>\n",
       "    </tr>\n",
       "  </thead>\n",
       "  <tbody>\n",
       "    <tr>\n",
       "      <th>High Income</th>\n",
       "      <td>1</td>\n",
       "      <td>121</td>\n",
       "      <td>9.241707</td>\n",
       "      <td>7.0</td>\n",
       "    </tr>\n",
       "    <tr>\n",
       "      <th>Low Income</th>\n",
       "      <td>1</td>\n",
       "      <td>137</td>\n",
       "      <td>7.320646</td>\n",
       "      <td>5.0</td>\n",
       "    </tr>\n",
       "    <tr>\n",
       "      <th>Middle Income</th>\n",
       "      <td>1</td>\n",
       "      <td>114</td>\n",
       "      <td>8.473635</td>\n",
       "      <td>7.0</td>\n",
       "    </tr>\n",
       "    <tr>\n",
       "      <th>Upper-Middle Income</th>\n",
       "      <td>1</td>\n",
       "      <td>145</td>\n",
       "      <td>8.492069</td>\n",
       "      <td>7.0</td>\n",
       "    </tr>\n",
       "  </tbody>\n",
       "</table>\n",
       "</div>"
      ],
      "text/plain": [
       "                     min  max      mean  median\n",
       "Income_Bracket                                 \n",
       "High Income            1  121  9.241707     7.0\n",
       "Low Income             1  137  7.320646     5.0\n",
       "Middle Income          1  114  8.473635     7.0\n",
       "Upper-Middle Income    1  145  8.492069     7.0"
      ]
     },
     "execution_count": 60,
     "metadata": {},
     "output_type": "execute_result"
    }
   ],
   "source": [
    "# min, max, mean, median usage frequency (Add_To_Cart_Order) by Income_Bracket\n",
    "\n",
    "df_depts.groupby('Income_Bracket')['Add_To_Cart_Order'].agg(['min', 'max', 'mean', 'median'])"
   ]
  },
  {
   "cell_type": "code",
   "execution_count": 61,
   "id": "6cfd9363",
   "metadata": {},
   "outputs": [
    {
     "data": {
      "text/html": [
       "<div>\n",
       "<style scoped>\n",
       "    .dataframe tbody tr th:only-of-type {\n",
       "        vertical-align: middle;\n",
       "    }\n",
       "\n",
       "    .dataframe tbody tr th {\n",
       "        vertical-align: top;\n",
       "    }\n",
       "\n",
       "    .dataframe thead th {\n",
       "        text-align: right;\n",
       "    }\n",
       "</style>\n",
       "<table border=\"1\" class=\"dataframe\">\n",
       "  <thead>\n",
       "    <tr style=\"text-align: right;\">\n",
       "      <th></th>\n",
       "      <th>min</th>\n",
       "      <th>max</th>\n",
       "      <th>mean</th>\n",
       "      <th>median</th>\n",
       "    </tr>\n",
       "    <tr>\n",
       "      <th>Household_Size</th>\n",
       "      <th></th>\n",
       "      <th></th>\n",
       "      <th></th>\n",
       "      <th></th>\n",
       "    </tr>\n",
       "  </thead>\n",
       "  <tbody>\n",
       "    <tr>\n",
       "      <th>Large</th>\n",
       "      <td>1</td>\n",
       "      <td>145</td>\n",
       "      <td>8.375061</td>\n",
       "      <td>6.0</td>\n",
       "    </tr>\n",
       "    <tr>\n",
       "      <th>Medium</th>\n",
       "      <td>1</td>\n",
       "      <td>114</td>\n",
       "      <td>8.370250</td>\n",
       "      <td>6.0</td>\n",
       "    </tr>\n",
       "    <tr>\n",
       "      <th>Small</th>\n",
       "      <td>1</td>\n",
       "      <td>137</td>\n",
       "      <td>8.336567</td>\n",
       "      <td>6.0</td>\n",
       "    </tr>\n",
       "  </tbody>\n",
       "</table>\n",
       "</div>"
      ],
      "text/plain": [
       "                min  max      mean  median\n",
       "Household_Size                            \n",
       "Large             1  145  8.375061     6.0\n",
       "Medium            1  114  8.370250     6.0\n",
       "Small             1  137  8.336567     6.0"
      ]
     },
     "execution_count": 61,
     "metadata": {},
     "output_type": "execute_result"
    }
   ],
   "source": [
    "# min, max, mean, median usage frequency (Add_To_Cart_Order) by Household_Size\n",
    "\n",
    "df_depts.groupby('Household_Size')['Add_To_Cart_Order'].agg(['min', 'max', 'mean', 'median'])"
   ]
  },
  {
   "cell_type": "code",
   "execution_count": 62,
   "id": "756e46c2",
   "metadata": {
    "scrolled": true
   },
   "outputs": [
    {
     "data": {
      "text/html": [
       "<div>\n",
       "<style scoped>\n",
       "    .dataframe tbody tr th:only-of-type {\n",
       "        vertical-align: middle;\n",
       "    }\n",
       "\n",
       "    .dataframe tbody tr th {\n",
       "        vertical-align: top;\n",
       "    }\n",
       "\n",
       "    .dataframe thead th {\n",
       "        text-align: right;\n",
       "    }\n",
       "</style>\n",
       "<table border=\"1\" class=\"dataframe\">\n",
       "  <thead>\n",
       "    <tr style=\"text-align: right;\">\n",
       "      <th></th>\n",
       "      <th>min</th>\n",
       "      <th>max</th>\n",
       "      <th>mean</th>\n",
       "      <th>median</th>\n",
       "    </tr>\n",
       "    <tr>\n",
       "      <th>Region</th>\n",
       "      <th></th>\n",
       "      <th></th>\n",
       "      <th></th>\n",
       "      <th></th>\n",
       "    </tr>\n",
       "  </thead>\n",
       "  <tbody>\n",
       "    <tr>\n",
       "      <th>Midwest</th>\n",
       "      <td>1</td>\n",
       "      <td>109</td>\n",
       "      <td>8.353883</td>\n",
       "      <td>6.0</td>\n",
       "    </tr>\n",
       "    <tr>\n",
       "      <th>Northeast</th>\n",
       "      <td>1</td>\n",
       "      <td>145</td>\n",
       "      <td>8.376380</td>\n",
       "      <td>6.0</td>\n",
       "    </tr>\n",
       "    <tr>\n",
       "      <th>South</th>\n",
       "      <td>1</td>\n",
       "      <td>137</td>\n",
       "      <td>8.365296</td>\n",
       "      <td>6.0</td>\n",
       "    </tr>\n",
       "    <tr>\n",
       "      <th>West</th>\n",
       "      <td>1</td>\n",
       "      <td>114</td>\n",
       "      <td>8.359292</td>\n",
       "      <td>6.0</td>\n",
       "    </tr>\n",
       "  </tbody>\n",
       "</table>\n",
       "</div>"
      ],
      "text/plain": [
       "           min  max      mean  median\n",
       "Region                               \n",
       "Midwest      1  109  8.353883     6.0\n",
       "Northeast    1  145  8.376380     6.0\n",
       "South        1  137  8.365296     6.0\n",
       "West         1  114  8.359292     6.0"
      ]
     },
     "execution_count": 62,
     "metadata": {},
     "output_type": "execute_result"
    }
   ],
   "source": [
    "# min, max, mean, median usage frequency (Add_To_Cart_Order) by Region\n",
    "\n",
    "df_depts.groupby('Region')['Add_To_Cart_Order'].agg(['min', 'max', 'mean', 'median'])"
   ]
  },
  {
   "cell_type": "code",
   "execution_count": 63,
   "id": "52ebb942",
   "metadata": {
    "scrolled": false
   },
   "outputs": [
    {
     "data": {
      "text/html": [
       "<div>\n",
       "<style scoped>\n",
       "    .dataframe tbody tr th:only-of-type {\n",
       "        vertical-align: middle;\n",
       "    }\n",
       "\n",
       "    .dataframe tbody tr th {\n",
       "        vertical-align: top;\n",
       "    }\n",
       "\n",
       "    .dataframe thead th {\n",
       "        text-align: right;\n",
       "    }\n",
       "</style>\n",
       "<table border=\"1\" class=\"dataframe\">\n",
       "  <thead>\n",
       "    <tr style=\"text-align: right;\">\n",
       "      <th></th>\n",
       "      <th>min</th>\n",
       "      <th>max</th>\n",
       "      <th>mean</th>\n",
       "      <th>median</th>\n",
       "    </tr>\n",
       "    <tr>\n",
       "      <th>Region</th>\n",
       "      <th></th>\n",
       "      <th></th>\n",
       "      <th></th>\n",
       "      <th></th>\n",
       "    </tr>\n",
       "  </thead>\n",
       "  <tbody>\n",
       "    <tr>\n",
       "      <th>Midwest</th>\n",
       "      <td>1.0</td>\n",
       "      <td>25.0</td>\n",
       "      <td>7.792318</td>\n",
       "      <td>7.4</td>\n",
       "    </tr>\n",
       "    <tr>\n",
       "      <th>Northeast</th>\n",
       "      <td>1.0</td>\n",
       "      <td>25.0</td>\n",
       "      <td>7.781441</td>\n",
       "      <td>7.4</td>\n",
       "    </tr>\n",
       "    <tr>\n",
       "      <th>South</th>\n",
       "      <td>1.0</td>\n",
       "      <td>25.0</td>\n",
       "      <td>7.794439</td>\n",
       "      <td>7.4</td>\n",
       "    </tr>\n",
       "    <tr>\n",
       "      <th>West</th>\n",
       "      <td>1.0</td>\n",
       "      <td>25.0</td>\n",
       "      <td>7.790308</td>\n",
       "      <td>7.4</td>\n",
       "    </tr>\n",
       "  </tbody>\n",
       "</table>\n",
       "</div>"
      ],
      "text/plain": [
       "           min   max      mean  median\n",
       "Region                                \n",
       "Midwest    1.0  25.0  7.792318     7.4\n",
       "Northeast  1.0  25.0  7.781441     7.4\n",
       "South      1.0  25.0  7.794439     7.4\n",
       "West       1.0  25.0  7.790308     7.4"
      ]
     },
     "execution_count": 63,
     "metadata": {},
     "output_type": "execute_result"
    }
   ],
   "source": [
    "# min, max, mean, median expenditure (Prices) by Region\n",
    "\n",
    "df_depts.groupby('Region')['Prices'].agg(['min', 'max', 'mean', 'median'])"
   ]
  },
  {
   "cell_type": "markdown",
   "id": "708303fb",
   "metadata": {},
   "source": [
    "# Step 8\n",
    "*Compare your customer profiles with regions and departments. Can you identify a link between them? Customers may demonstrate different behaviors across regions, which could make this information important.*"
   ]
  },
  {
   "cell_type": "markdown",
   "id": "1251395a",
   "metadata": {},
   "source": [
    "### Income Bracket by Region"
   ]
  },
  {
   "cell_type": "code",
   "execution_count": 64,
   "id": "9584c262",
   "metadata": {},
   "outputs": [],
   "source": [
    "# Create crosstabs to compare one variable against another\n",
    "# Create a crosstab to compare Income_Bracket with Region\n",
    "\n",
    "crosstab_income_region = pd.crosstab(df_depts['Region'], df_depts['Income_Bracket'], dropna = False)"
   ]
  },
  {
   "cell_type": "code",
   "execution_count": 65,
   "id": "72fe453e",
   "metadata": {
    "scrolled": false
   },
   "outputs": [
    {
     "data": {
      "text/html": [
       "<div>\n",
       "<style scoped>\n",
       "    .dataframe tbody tr th:only-of-type {\n",
       "        vertical-align: middle;\n",
       "    }\n",
       "\n",
       "    .dataframe tbody tr th {\n",
       "        vertical-align: top;\n",
       "    }\n",
       "\n",
       "    .dataframe thead th {\n",
       "        text-align: right;\n",
       "    }\n",
       "</style>\n",
       "<table border=\"1\" class=\"dataframe\">\n",
       "  <thead>\n",
       "    <tr style=\"text-align: right;\">\n",
       "      <th>Income_Bracket</th>\n",
       "      <th>High Income</th>\n",
       "      <th>Low Income</th>\n",
       "      <th>Middle Income</th>\n",
       "      <th>Upper-Middle Income</th>\n",
       "    </tr>\n",
       "    <tr>\n",
       "      <th>Region</th>\n",
       "      <th></th>\n",
       "      <th></th>\n",
       "      <th></th>\n",
       "      <th></th>\n",
       "    </tr>\n",
       "  </thead>\n",
       "  <tbody>\n",
       "    <tr>\n",
       "      <th>Midwest</th>\n",
       "      <td>64093</td>\n",
       "      <td>783764</td>\n",
       "      <td>3077656</td>\n",
       "      <td>3336000</td>\n",
       "    </tr>\n",
       "    <tr>\n",
       "      <th>Northeast</th>\n",
       "      <td>40106</td>\n",
       "      <td>587137</td>\n",
       "      <td>2361064</td>\n",
       "      <td>2476378</td>\n",
       "    </tr>\n",
       "    <tr>\n",
       "      <th>South</th>\n",
       "      <td>83446</td>\n",
       "      <td>1142572</td>\n",
       "      <td>4504622</td>\n",
       "      <td>4580499</td>\n",
       "    </tr>\n",
       "    <tr>\n",
       "      <th>West</th>\n",
       "      <td>66497</td>\n",
       "      <td>849081</td>\n",
       "      <td>3451266</td>\n",
       "      <td>3560383</td>\n",
       "    </tr>\n",
       "  </tbody>\n",
       "</table>\n",
       "</div>"
      ],
      "text/plain": [
       "Income_Bracket  High Income  Low Income  Middle Income  Upper-Middle Income\n",
       "Region                                                                     \n",
       "Midwest               64093      783764        3077656              3336000\n",
       "Northeast             40106      587137        2361064              2476378\n",
       "South                 83446     1142572        4504622              4580499\n",
       "West                  66497      849081        3451266              3560383"
      ]
     },
     "execution_count": 65,
     "metadata": {},
     "output_type": "execute_result"
    }
   ],
   "source": [
    "crosstab_income_region"
   ]
  },
  {
   "cell_type": "code",
   "execution_count": 71,
   "id": "dce4f63c",
   "metadata": {
    "scrolled": false
   },
   "outputs": [
    {
     "data": {
      "text/plain": [
       "[Text(0, 0, 'Midwest'),\n",
       " Text(1, 0, 'Northeast'),\n",
       " Text(2, 0, 'South'),\n",
       " Text(3, 0, 'West')]"
      ]
     },
     "execution_count": 71,
     "metadata": {},
     "output_type": "execute_result"
    },
    {
     "data": {
      "image/png": "[encoded data removed]",
      "text/plain": [
       "<Figure size 640x480 with 1 Axes>"
      ]
     },
     "metadata": {},
     "output_type": "display_data"
    }
   ],
   "source": [
    "# Visualize count of orders grouped by customer Income Bracket and Region:\n",
    "\n",
    "# Define the desired order of the columns\n",
    "desired_order = ['High Income', 'Upper-Middle Income', 'Middle Income', 'Low Income']\n",
    "\n",
    "# Reorder the columns of the crosstab using loc and the desired_order list\n",
    "crosstab_income_region = crosstab_income_region.loc[:, desired_order]\n",
    "\n",
    "# Plot the chart\n",
    "barchart_income_region = crosstab_income_region.plot(kind = 'bar', colormap='Paired')\n",
    "barchart_income_region.legend(title='Income Brackets',bbox_to_anchor=(1, 1.02), loc='upper left')\n",
    "plt.title('Regional Comparison of Orders per Income Bracket')\n",
    "plt.ylabel('Orders (millions)', fontsize = 12)\n",
    "plt.xlabel('',  fontsize = 12)\n",
    "\n",
    "# Define a custom function to format y-axis labels in millions\n",
    "def millions_formatter(x, pos):\n",
    "    return '{:.0f}M'.format(x / 1000000)\n",
    "\n",
    "# Create a FuncFormatter object for the custom function\n",
    "formatter = FuncFormatter(millions_formatter)\n",
    "\n",
    "# Apply the custom formatter to the y-axis\n",
    "barchart_income_region.yaxis.set_major_formatter(formatter)\n",
    "\n",
    "# Rotate the x-axis labels by 90 degrees\n",
    "barchart_income_region.set_xticklabels(barchart_income_region.get_xticklabels(), rotation=0)\n"
   ]
  },
  {
   "cell_type": "code",
   "execution_count": 72,
   "id": "bd1cf678",
   "metadata": {},
   "outputs": [],
   "source": [
    "barchart_income_region.figure.savefig(os.path.join(path, '04 Analysis','Visualizations', 'barchart_income_region.png'),bbox_inches='tight')"
   ]
  },
  {
   "cell_type": "markdown",
   "id": "b78b9025",
   "metadata": {},
   "source": [
    "### Age Group by Region"
   ]
  },
  {
   "cell_type": "code",
   "execution_count": 69,
   "id": "475a754e",
   "metadata": {
    "scrolled": false
   },
   "outputs": [
    {
     "data": {
      "text/html": [
       "<div>\n",
       "<style scoped>\n",
       "    .dataframe tbody tr th:only-of-type {\n",
       "        vertical-align: middle;\n",
       "    }\n",
       "\n",
       "    .dataframe tbody tr th {\n",
       "        vertical-align: top;\n",
       "    }\n",
       "\n",
       "    .dataframe thead th {\n",
       "        text-align: right;\n",
       "    }\n",
       "</style>\n",
       "<table border=\"1\" class=\"dataframe\">\n",
       "  <thead>\n",
       "    <tr style=\"text-align: right;\">\n",
       "      <th>Age_Group</th>\n",
       "      <th>Middle-Aged</th>\n",
       "      <th>Senior</th>\n",
       "      <th>Young Adult</th>\n",
       "    </tr>\n",
       "    <tr>\n",
       "      <th>Region</th>\n",
       "      <th></th>\n",
       "      <th></th>\n",
       "      <th></th>\n",
       "    </tr>\n",
       "  </thead>\n",
       "  <tbody>\n",
       "    <tr>\n",
       "      <th>Midwest</th>\n",
       "      <td>2874466</td>\n",
       "      <td>1904046</td>\n",
       "      <td>2483001</td>\n",
       "    </tr>\n",
       "    <tr>\n",
       "      <th>Northeast</th>\n",
       "      <td>2108141</td>\n",
       "      <td>1484807</td>\n",
       "      <td>1871737</td>\n",
       "    </tr>\n",
       "    <tr>\n",
       "      <th>South</th>\n",
       "      <td>3994431</td>\n",
       "      <td>2708461</td>\n",
       "      <td>3608247</td>\n",
       "    </tr>\n",
       "    <tr>\n",
       "      <th>West</th>\n",
       "      <td>3126872</td>\n",
       "      <td>2098230</td>\n",
       "      <td>2702125</td>\n",
       "    </tr>\n",
       "  </tbody>\n",
       "</table>\n",
       "</div>"
      ],
      "text/plain": [
       "Age_Group  Middle-Aged   Senior  Young Adult\n",
       "Region                                      \n",
       "Midwest        2874466  1904046      2483001\n",
       "Northeast      2108141  1484807      1871737\n",
       "South          3994431  2708461      3608247\n",
       "West           3126872  2098230      2702125"
      ]
     },
     "execution_count": 69,
     "metadata": {},
     "output_type": "execute_result"
    }
   ],
   "source": [
    "# Create a crosstab to compare Age_Group with Region\n",
    "\n",
    "crosstab_age_region = pd.crosstab(df_depts['Region'], df_depts['Age_Group'], dropna = False)\n",
    "crosstab_age_region"
   ]
  },
  {
   "cell_type": "code",
   "execution_count": 73,
   "id": "5cd616a6",
   "metadata": {
    "scrolled": true
   },
   "outputs": [
    {
     "data": {
      "text/plain": [
       "[Text(0, 0, 'Midwest'),\n",
       " Text(1, 0, 'Northeast'),\n",
       " Text(2, 0, 'South'),\n",
       " Text(3, 0, 'West')]"
      ]
     },
     "execution_count": 73,
     "metadata": {},
     "output_type": "execute_result"
    },
    {
     "data": {
      "image/png": "[encoded data removed]",
      "text/plain": [
       "<Figure size 640x480 with 1 Axes>"
      ]
     },
     "metadata": {},
     "output_type": "display_data"
    }
   ],
   "source": [
    "# Visualize count of orders grouped by customer Age Group and Region:\n",
    "from matplotlib.ticker import FuncFormatter, ScalarFormatter\n",
    "from matplotlib.lines import Line2D\n",
    "\n",
    "# Define the desired order of the columns\n",
    "desired_order = ['Senior', 'Middle-Aged', 'Young Adult']\n",
    "\n",
    "# Reorder the columns of the crosstab using loc and the desired_order list\n",
    "crosstab_age_region = crosstab_age_region.loc[:, desired_order]\n",
    "\n",
    "age_region_bar = crosstab_age_region.plot(kind = 'bar', colormap='Paired')\n",
    "age_region_bar.legend(title='Age Groups', bbox_to_anchor=(1, 1.02), loc='upper left')\n",
    "plt.title('Regional Comparison of Orders per Age Group')\n",
    "plt.ylabel('Orders (millions)', fontsize = 12)\n",
    "plt.xlabel('',  fontsize = 12)\n",
    "\n",
    "# Define a custom function to format y-axis labels in millions\n",
    "def millions_formatter(x, pos):\n",
    "    return '{:.0f}M'.format(x / 1000000)\n",
    "\n",
    "# Create a FuncFormatter object for the custom function\n",
    "formatter = FuncFormatter(millions_formatter)\n",
    "\n",
    "# Apply the custom formatter to the y-axis\n",
    "age_region_bar.yaxis.set_major_formatter(formatter)\n",
    "\n",
    "# Rotate the x-axis labels by 90 degrees\n",
    "age_region_bar.set_xticklabels(barchart_income_region.get_xticklabels(), rotation=0)"
   ]
  },
  {
   "cell_type": "code",
   "execution_count": 74,
   "id": "9de02c93",
   "metadata": {},
   "outputs": [],
   "source": [
    "age_region_bar.figure.savefig(os.path.join(path, '04 Analysis','Visualizations', 'age_region_bar.png'),bbox_inches='tight')"
   ]
  },
  {
   "cell_type": "markdown",
   "id": "81e4ae54",
   "metadata": {},
   "source": [
    "### Household Size by Region"
   ]
  },
  {
   "cell_type": "code",
   "execution_count": 75,
   "id": "4d4cfaa1",
   "metadata": {
    "scrolled": true
   },
   "outputs": [
    {
     "data": {
      "text/html": [
       "<div>\n",
       "<style scoped>\n",
       "    .dataframe tbody tr th:only-of-type {\n",
       "        vertical-align: middle;\n",
       "    }\n",
       "\n",
       "    .dataframe tbody tr th {\n",
       "        vertical-align: top;\n",
       "    }\n",
       "\n",
       "    .dataframe thead th {\n",
       "        text-align: right;\n",
       "    }\n",
       "</style>\n",
       "<table border=\"1\" class=\"dataframe\">\n",
       "  <thead>\n",
       "    <tr style=\"text-align: right;\">\n",
       "      <th>Household_Size</th>\n",
       "      <th>Large</th>\n",
       "      <th>Medium</th>\n",
       "      <th>Small</th>\n",
       "    </tr>\n",
       "    <tr>\n",
       "      <th>Region</th>\n",
       "      <th></th>\n",
       "      <th></th>\n",
       "      <th></th>\n",
       "    </tr>\n",
       "  </thead>\n",
       "  <tbody>\n",
       "    <tr>\n",
       "      <th>Midwest</th>\n",
       "      <td>1787286</td>\n",
       "      <td>3651411</td>\n",
       "      <td>1822816</td>\n",
       "    </tr>\n",
       "    <tr>\n",
       "      <th>Northeast</th>\n",
       "      <td>1381233</td>\n",
       "      <td>2728970</td>\n",
       "      <td>1354482</td>\n",
       "    </tr>\n",
       "    <tr>\n",
       "      <th>South</th>\n",
       "      <td>2585864</td>\n",
       "      <td>5143342</td>\n",
       "      <td>2581933</td>\n",
       "    </tr>\n",
       "    <tr>\n",
       "      <th>West</th>\n",
       "      <td>2018133</td>\n",
       "      <td>3928644</td>\n",
       "      <td>1980450</td>\n",
       "    </tr>\n",
       "  </tbody>\n",
       "</table>\n",
       "</div>"
      ],
      "text/plain": [
       "Household_Size    Large   Medium    Small\n",
       "Region                                   \n",
       "Midwest         1787286  3651411  1822816\n",
       "Northeast       1381233  2728970  1354482\n",
       "South           2585864  5143342  2581933\n",
       "West            2018133  3928644  1980450"
      ]
     },
     "execution_count": 75,
     "metadata": {},
     "output_type": "execute_result"
    }
   ],
   "source": [
    "# Create a crosstab to compare Age_Group with Region\n",
    "\n",
    "crosstab_household_region = pd.crosstab(df_depts['Region'], df_depts['Household_Size'], dropna = False)\n",
    "crosstab_household_region"
   ]
  },
  {
   "cell_type": "code",
   "execution_count": 76,
   "id": "f25edd97",
   "metadata": {
    "scrolled": false
   },
   "outputs": [
    {
     "data": {
      "text/plain": [
       "[Text(0, 0, 'Midwest'),\n",
       " Text(1, 0, 'Northeast'),\n",
       " Text(2, 0, 'South'),\n",
       " Text(3, 0, 'West')]"
      ]
     },
     "execution_count": 76,
     "metadata": {},
     "output_type": "execute_result"
    },
    {
     "data": {
      "image/png": "[encoded data removed]",
      "text/plain": [
       "<Figure size 640x480 with 1 Axes>"
      ]
     },
     "metadata": {},
     "output_type": "display_data"
    }
   ],
   "source": [
    "# Visualize count of orders grouped by Household Size and Region:\n",
    "\n",
    "# Define the desired order of the columns\n",
    "desired_order = ['Small', 'Medium', 'Large']\n",
    "\n",
    "# Reorder the columns of the crosstab using loc and the desired_order list\n",
    "crosstab_household_region = crosstab_household_region.loc[:, desired_order]\n",
    "\n",
    "household_region_bar = crosstab_household_region.plot(kind = 'bar', colormap='Paired')\n",
    "household_region_bar.legend(title='Household. Size', bbox_to_anchor=(1, 1.02), loc='upper left')\n",
    "plt.title('Regional Comparison of Orders per Household Size')\n",
    "plt.ylabel('Orders (millions)', fontsize = 12)\n",
    "plt.xlabel('',  fontsize = 12)\n",
    "\n",
    "# Define a custom function to format y-axis labels in millions\n",
    "def millions_formatter(x, pos):\n",
    "    return '{:.0f}M'.format(x / 1000000)\n",
    "\n",
    "# Create a FuncFormatter object for the custom function\n",
    "formatter = FuncFormatter(millions_formatter)\n",
    "\n",
    "# Apply the custom formatter to the y-axis\n",
    "household_region_bar.yaxis.set_major_formatter(formatter)\n",
    "\n",
    "# Rotate the x-axis labels by 90 degrees\n",
    "household_region_bar.set_xticklabels(barchart_income_region.get_xticklabels(), rotation=0)"
   ]
  },
  {
   "cell_type": "code",
   "execution_count": 77,
   "id": "b08b65de",
   "metadata": {},
   "outputs": [],
   "source": [
    "household_region_bar.figure.savefig(os.path.join(path, '04 Analysis','Visualizations', 'household_region_bar.png'),bbox_inches='tight')"
   ]
  },
  {
   "cell_type": "markdown",
   "id": "57a5d6f6",
   "metadata": {},
   "source": [
    "## Customers with Babies per region"
   ]
  },
  {
   "cell_type": "code",
   "execution_count": null,
   "id": "d1ebadec",
   "metadata": {
    "scrolled": true
   },
   "outputs": [],
   "source": [
    "# Create a crosstab to compare Babies with Region\n",
    "\n",
    "crosstab_babies_region = pd.crosstab(df_depts['Region'], df_depts['Baby'], dropna = False)\n",
    "crosstab_babies_region"
   ]
  },
  {
   "cell_type": "code",
   "execution_count": null,
   "id": "17826f05",
   "metadata": {},
   "outputs": [],
   "source": [
    "# Visualize customers purchasing Baby products per Region:\n",
    "\n",
    "babies_region_bar = crosstab_babies_region.plot(kind = 'bar', stacked=True, colormap='Paired')\n",
    "babies_region_bar.legend(title='Babies', bbox_to_anchor=(1, 1.02), loc='upper left')\n",
    "plt.title('Customers purchasing Baby Products')\n",
    "plt.ylabel('Orders (millions)', fontsize = 12)\n",
    "plt.xlabel('',  fontsize = 12)\n",
    "\n",
    "# Rotate the x-axis labels by 90 degrees\n",
    "babies_region_bar.set_xticklabels(barchart_income_region.get_xticklabels(), rotation=0)"
   ]
  },
  {
   "cell_type": "markdown",
   "id": "e45f03e8",
   "metadata": {},
   "source": [
    "## Customers with Pets per region"
   ]
  },
  {
   "cell_type": "code",
   "execution_count": null,
   "id": "0eb5edc0",
   "metadata": {
    "scrolled": true
   },
   "outputs": [],
   "source": [
    "# Get the value counts of Customers purchasing pets products\n",
    "\n",
    "pets_yes = df_depts[df_depts['Pet'] == 'Yes']\n",
    "pets_yes['Pet'].value_counts()\n"
   ]
  },
  {
   "cell_type": "markdown",
   "id": "359cdf06",
   "metadata": {},
   "source": [
    "# Step 9\n",
    "Produce suitable charts to illustrate your results and export them in your project folder"
   ]
  },
  {
   "cell_type": "markdown",
   "id": "3fc3194c",
   "metadata": {},
   "source": [
    "### Key Question 3: \n",
    "Instacart has a lot of products with different price tags. Marketing and sales want to use simpler price range groupings to help direct their efforts."
   ]
  },
  {
   "cell_type": "code",
   "execution_count": null,
   "id": "0dc66816",
   "metadata": {},
   "outputs": [],
   "source": [
    "# Dataframe of prices by department\n",
    "\n",
    "prices_dept = df_depts[['Department', 'Prices']]"
   ]
  },
  {
   "cell_type": "code",
   "execution_count": null,
   "id": "356e6d4b",
   "metadata": {},
   "outputs": [],
   "source": [
    "# Aggregations for prices by department\n",
    "\n",
    "prices_dept.groupby('Department')['Prices'].agg(['mean','min', 'max', 'median'])"
   ]
  },
  {
   "cell_type": "code",
   "execution_count": null,
   "id": "0c59f42f",
   "metadata": {
    "scrolled": true
   },
   "outputs": [],
   "source": [
    "# Rename column 'Rrice_Range_Loc' to 'Price_Range_Loc' to correct typo\n",
    "df_depts = df_depts.rename(columns={'Rrice_Range_Loc': 'Price_Range_Loc'})"
   ]
  },
  {
   "cell_type": "code",
   "execution_count": null,
   "id": "0d373991",
   "metadata": {},
   "outputs": [],
   "source": [
    "# Check the column rename\n",
    "df_depts['Price_Range_Loc']"
   ]
  },
  {
   "cell_type": "code",
   "execution_count": null,
   "id": "c093eb9a",
   "metadata": {},
   "outputs": [],
   "source": [
    "# Get the value counts of of High-range, Low-range and Mid-range products\n",
    "df_depts['Price_Range_Loc'].value_counts(dropna = False)"
   ]
  },
  {
   "cell_type": "code",
   "execution_count": null,
   "id": "de25a08a",
   "metadata": {
    "scrolled": false
   },
   "outputs": [],
   "source": [
    "# Get the count of High-range, Low-range and Mid-range products ordered from each department\n",
    "df_depts.groupby(['Department', 'Price_Range_Loc'])['Price_Range_Loc'].count().unstack().fillna(0)"
   ]
  },
  {
   "cell_type": "code",
   "execution_count": null,
   "id": "e08b469f",
   "metadata": {
    "scrolled": true
   },
   "outputs": [],
   "source": [
    "# Create a crosstab to compare Price-ranges with Department\n",
    "\n",
    "crosstab_Price_Range_Dept = pd.crosstab(df_depts['Department'], df_depts['Price_Range_Loc'], dropna = False)\n",
    "crosstab_Price_Range_Dept"
   ]
  },
  {
   "cell_type": "code",
   "execution_count": null,
   "id": "4ae2e3c2",
   "metadata": {},
   "outputs": [],
   "source": [
    "# Visualize count of High-range, Low-range and Mid-range products ordered from each department:\n",
    "\n",
    "Price_Range_Dept_bar = crosstab_Price_Range_Dept.plot(kind = 'bar', stacked = True, colormap='Paired')\n",
    "Price_Range_Dept_bar.legend(title='Price-Ranges', bbox_to_anchor=(1, 1.02), loc='upper left')\n",
    "plt.title('Product Price-Ranges by Department')\n",
    "plt.ylabel('Orders (millions)', fontsize = 12)\n",
    "plt.xlabel('Department',  fontsize = 12)\n"
   ]
  },
  {
   "cell_type": "markdown",
   "id": "6a1e53dc",
   "metadata": {},
   "source": [
    "# Export Charts"
   ]
  },
  {
   "cell_type": "code",
   "execution_count": null,
   "id": "55fef6cb",
   "metadata": {},
   "outputs": [],
   "source": [
    "# Export Orders_per_Hour_hist\n",
    "age_group_bar.figure.savefig(os.path.join(path, '04 Analysis','Visualizations', 'Age_Group_bar.png'))"
   ]
  },
  {
   "cell_type": "code",
   "execution_count": null,
   "id": "a9259bd0",
   "metadata": {},
   "outputs": [],
   "source": [
    "# Export crosstab_Price_Range_Dept\n",
    "Price_Range_Dept_bar.figure.savefig(os.path.join(path, '04 Analysis','Visualizations', 'Price_Range_Dept_bar.png'))"
   ]
  },
  {
   "cell_type": "code",
   "execution_count": null,
   "id": "bce5669b",
   "metadata": {},
   "outputs": [],
   "source": [
    "# Export df_depts as instacart_analysis_data.pkl\n",
    "df_depts.to_pickle((os.path.join(path, '02 Data', '02b Prepared Data', 'instacart_analysis_data.pkl')))\n"
   ]
  },
  {
   "cell_type": "code",
   "execution_count": null,
   "id": "54ecee41",
   "metadata": {},
   "outputs": [],
   "source": []
  }
 ],
 "metadata": {
  "kernelspec": {
   "display_name": "Python 3 (ipykernel)",
   "language": "python",
   "name": "python3"
  },
  "language_info": {
   "codemirror_mode": {
    "name": "ipython",
    "version": 3
   },
   "file_extension": ".py",
   "mimetype": "text/x-python",
   "name": "python",
   "nbconvert_exporter": "python",
   "pygments_lexer": "ipython3",
   "version": "3.9.13"
  }
 },
 "nbformat": 4,
 "nbformat_minor": 5
}
